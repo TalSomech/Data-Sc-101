{
 "cells": [
  {
   "cell_type": "code",
   "execution_count": 312,
   "metadata": {
    "collapsed": true
   },
   "outputs": [
    {
     "data": {
      "text/plain": "                                                   name platform  \\\n0                                            Wii Sports      Wii   \n1                                        Mario Kart Wii      Wii   \n2                                     Wii Sports Resort      Wii   \n3                                              Wii Play      Wii   \n4                             New Super Mario Bros. Wii      Wii   \n...                                                 ...      ...   \n5436               Infinite Loop: Kojjou ga Miseta Yume      PSP   \n5437                     Shinseiki GPX Cyber Formula VS      PSP   \n5438                        Hyperdimension Neptunia mk2      PS3   \n5439  Chou no Doku: Hana no Kusari - Taishou Tsuyako...      PSP   \n5440                              Brave: The Video Game      Wii   \n\n      release year      genre                   publisher  \\\n0           2006.0     Sports                    Nintendo   \n1           2008.0     Racing                    Nintendo   \n2           2009.0     Sports                    Nintendo   \n3           2006.0       Misc                    Nintendo   \n4           2009.0   Platform                    Nintendo   \n...            ...        ...                         ...   \n5436        2008.0  Adventure        Nippon Ichi Software   \n5437        2008.0     Racing         Sunrise Interactive   \n5438        2011.0     Action        Nippon Ichi Software   \n5439        2014.0  Adventure                   Prototype   \n5440        2012.0     Action  Disney Interactive Studios   \n\n      north america sales  europe sales  japan sales  rest of world sales  \\\n0                   41.02         28.66         3.77                 8.39   \n1                   15.07         12.36         3.71                 3.19   \n2                   15.38         10.71         3.25                 2.89   \n3                   13.89          9.14         2.93                 2.83   \n4                   13.85          6.57         4.69                 2.14   \n...                   ...           ...          ...                  ...   \n5436                 0.00          0.00         0.01                 0.00   \n5437                 0.00          0.00         0.01                 0.00   \n5438                 0.00          0.00         0.00                 0.00   \n5439                 0.00          0.00         0.01                 0.00   \n5440                 0.00          0.00         0.00                 0.00   \n\n      global sales  release date  critic score  critic outof  critic count  \\\n0            81.84  Nov 19, 2006          76.0         100.0          51.0   \n1            34.33  Apr 27, 2008          82.0         100.0          73.0   \n2            32.24  Jul 26, 2009          80.0         100.0          73.0   \n3            28.79  Feb 12, 2007          58.0         100.0          41.0   \n4            27.25  Nov 15, 2009          87.0         100.0          80.0   \n...            ...           ...           ...           ...           ...   \n5436          0.01           NaN           NaN           NaN           NaN   \n5437          0.01           NaN           NaN           NaN           NaN   \n5438          0.01  Feb 28, 2012          53.0         100.0          16.0   \n5439          0.01           NaN           NaN           NaN           NaN   \n5440          0.01  Jun 19, 2012          50.0         100.0           5.0   \n\n     user score  user count                   developer rating  \n0           8.2       229.0                    Nintendo      E  \n1           8.2       503.0                    Nintendo      E  \n2           7.7       132.0                    Nintendo      E  \n3           6.5       103.0                    Nintendo      E  \n4           8.3       446.0                    Nintendo      E  \n...         ...         ...                         ...    ...  \n5436        NaN         NaN                         NaN    NaN  \n5437        NaN         NaN                         NaN    NaN  \n5438        7.9        90.0                Idea Factory      M  \n5439        NaN         NaN                         NaN    NaN  \n5440        5.3         7.0  Disney Interactive Studios   E10+  \n\n[5441 rows x 18 columns]",
      "text/html": "<div>\n<style scoped>\n    .dataframe tbody tr th:only-of-type {\n        vertical-align: middle;\n    }\n\n    .dataframe tbody tr th {\n        vertical-align: top;\n    }\n\n    .dataframe thead th {\n        text-align: right;\n    }\n</style>\n<table border=\"1\" class=\"dataframe\">\n  <thead>\n    <tr style=\"text-align: right;\">\n      <th></th>\n      <th>name</th>\n      <th>platform</th>\n      <th>release year</th>\n      <th>genre</th>\n      <th>publisher</th>\n      <th>north america sales</th>\n      <th>europe sales</th>\n      <th>japan sales</th>\n      <th>rest of world sales</th>\n      <th>global sales</th>\n      <th>release date</th>\n      <th>critic score</th>\n      <th>critic outof</th>\n      <th>critic count</th>\n      <th>user score</th>\n      <th>user count</th>\n      <th>developer</th>\n      <th>rating</th>\n    </tr>\n  </thead>\n  <tbody>\n    <tr>\n      <th>0</th>\n      <td>Wii Sports</td>\n      <td>Wii</td>\n      <td>2006.0</td>\n      <td>Sports</td>\n      <td>Nintendo</td>\n      <td>41.02</td>\n      <td>28.66</td>\n      <td>3.77</td>\n      <td>8.39</td>\n      <td>81.84</td>\n      <td>Nov 19, 2006</td>\n      <td>76.0</td>\n      <td>100.0</td>\n      <td>51.0</td>\n      <td>8.2</td>\n      <td>229.0</td>\n      <td>Nintendo</td>\n      <td>E</td>\n    </tr>\n    <tr>\n      <th>1</th>\n      <td>Mario Kart Wii</td>\n      <td>Wii</td>\n      <td>2008.0</td>\n      <td>Racing</td>\n      <td>Nintendo</td>\n      <td>15.07</td>\n      <td>12.36</td>\n      <td>3.71</td>\n      <td>3.19</td>\n      <td>34.33</td>\n      <td>Apr 27, 2008</td>\n      <td>82.0</td>\n      <td>100.0</td>\n      <td>73.0</td>\n      <td>8.2</td>\n      <td>503.0</td>\n      <td>Nintendo</td>\n      <td>E</td>\n    </tr>\n    <tr>\n      <th>2</th>\n      <td>Wii Sports Resort</td>\n      <td>Wii</td>\n      <td>2009.0</td>\n      <td>Sports</td>\n      <td>Nintendo</td>\n      <td>15.38</td>\n      <td>10.71</td>\n      <td>3.25</td>\n      <td>2.89</td>\n      <td>32.24</td>\n      <td>Jul 26, 2009</td>\n      <td>80.0</td>\n      <td>100.0</td>\n      <td>73.0</td>\n      <td>7.7</td>\n      <td>132.0</td>\n      <td>Nintendo</td>\n      <td>E</td>\n    </tr>\n    <tr>\n      <th>3</th>\n      <td>Wii Play</td>\n      <td>Wii</td>\n      <td>2006.0</td>\n      <td>Misc</td>\n      <td>Nintendo</td>\n      <td>13.89</td>\n      <td>9.14</td>\n      <td>2.93</td>\n      <td>2.83</td>\n      <td>28.79</td>\n      <td>Feb 12, 2007</td>\n      <td>58.0</td>\n      <td>100.0</td>\n      <td>41.0</td>\n      <td>6.5</td>\n      <td>103.0</td>\n      <td>Nintendo</td>\n      <td>E</td>\n    </tr>\n    <tr>\n      <th>4</th>\n      <td>New Super Mario Bros. Wii</td>\n      <td>Wii</td>\n      <td>2009.0</td>\n      <td>Platform</td>\n      <td>Nintendo</td>\n      <td>13.85</td>\n      <td>6.57</td>\n      <td>4.69</td>\n      <td>2.14</td>\n      <td>27.25</td>\n      <td>Nov 15, 2009</td>\n      <td>87.0</td>\n      <td>100.0</td>\n      <td>80.0</td>\n      <td>8.3</td>\n      <td>446.0</td>\n      <td>Nintendo</td>\n      <td>E</td>\n    </tr>\n    <tr>\n      <th>...</th>\n      <td>...</td>\n      <td>...</td>\n      <td>...</td>\n      <td>...</td>\n      <td>...</td>\n      <td>...</td>\n      <td>...</td>\n      <td>...</td>\n      <td>...</td>\n      <td>...</td>\n      <td>...</td>\n      <td>...</td>\n      <td>...</td>\n      <td>...</td>\n      <td>...</td>\n      <td>...</td>\n      <td>...</td>\n      <td>...</td>\n    </tr>\n    <tr>\n      <th>5436</th>\n      <td>Infinite Loop: Kojjou ga Miseta Yume</td>\n      <td>PSP</td>\n      <td>2008.0</td>\n      <td>Adventure</td>\n      <td>Nippon Ichi Software</td>\n      <td>0.00</td>\n      <td>0.00</td>\n      <td>0.01</td>\n      <td>0.00</td>\n      <td>0.01</td>\n      <td>NaN</td>\n      <td>NaN</td>\n      <td>NaN</td>\n      <td>NaN</td>\n      <td>NaN</td>\n      <td>NaN</td>\n      <td>NaN</td>\n      <td>NaN</td>\n    </tr>\n    <tr>\n      <th>5437</th>\n      <td>Shinseiki GPX Cyber Formula VS</td>\n      <td>PSP</td>\n      <td>2008.0</td>\n      <td>Racing</td>\n      <td>Sunrise Interactive</td>\n      <td>0.00</td>\n      <td>0.00</td>\n      <td>0.01</td>\n      <td>0.00</td>\n      <td>0.01</td>\n      <td>NaN</td>\n      <td>NaN</td>\n      <td>NaN</td>\n      <td>NaN</td>\n      <td>NaN</td>\n      <td>NaN</td>\n      <td>NaN</td>\n      <td>NaN</td>\n    </tr>\n    <tr>\n      <th>5438</th>\n      <td>Hyperdimension Neptunia mk2</td>\n      <td>PS3</td>\n      <td>2011.0</td>\n      <td>Action</td>\n      <td>Nippon Ichi Software</td>\n      <td>0.00</td>\n      <td>0.00</td>\n      <td>0.00</td>\n      <td>0.00</td>\n      <td>0.01</td>\n      <td>Feb 28, 2012</td>\n      <td>53.0</td>\n      <td>100.0</td>\n      <td>16.0</td>\n      <td>7.9</td>\n      <td>90.0</td>\n      <td>Idea Factory</td>\n      <td>M</td>\n    </tr>\n    <tr>\n      <th>5439</th>\n      <td>Chou no Doku: Hana no Kusari - Taishou Tsuyako...</td>\n      <td>PSP</td>\n      <td>2014.0</td>\n      <td>Adventure</td>\n      <td>Prototype</td>\n      <td>0.00</td>\n      <td>0.00</td>\n      <td>0.01</td>\n      <td>0.00</td>\n      <td>0.01</td>\n      <td>NaN</td>\n      <td>NaN</td>\n      <td>NaN</td>\n      <td>NaN</td>\n      <td>NaN</td>\n      <td>NaN</td>\n      <td>NaN</td>\n      <td>NaN</td>\n    </tr>\n    <tr>\n      <th>5440</th>\n      <td>Brave: The Video Game</td>\n      <td>Wii</td>\n      <td>2012.0</td>\n      <td>Action</td>\n      <td>Disney Interactive Studios</td>\n      <td>0.00</td>\n      <td>0.00</td>\n      <td>0.00</td>\n      <td>0.00</td>\n      <td>0.01</td>\n      <td>Jun 19, 2012</td>\n      <td>50.0</td>\n      <td>100.0</td>\n      <td>5.0</td>\n      <td>5.3</td>\n      <td>7.0</td>\n      <td>Disney Interactive Studios</td>\n      <td>E10+</td>\n    </tr>\n  </tbody>\n</table>\n<p>5441 rows × 18 columns</p>\n</div>"
     },
     "execution_count": 312,
     "metadata": {},
     "output_type": "execute_result"
    }
   ],
   "source": [
    "import pandas as pd\n",
    "import matplotlib.pyplot as plt\n",
    "%matplotlib inline\n",
    "import numpy as np\n",
    "import seaborn as sns\n",
    "import datetime\n",
    "df=pd.read_csv(r\"./gamedata-20140215-11_53_10.csv\",encoding='latin-1')\n",
    "df"
   ]
  },
  {
   "cell_type": "code",
   "execution_count": 313,
   "outputs": [
    {
     "data": {
      "text/plain": "                                              name platform  release year  \\\n152                                Just Dance 2014      Wii        2013.0   \n213   Grand Theft Auto: Episodes from Liberty City     X360        2009.0   \n224                               My Fitness Coach      Wii        2008.0   \n272                              Wipeout: The Game      Wii        2009.0   \n300   Grand Theft Auto: Episodes from Liberty City      PS3        2010.0   \n...                                            ...      ...           ...   \n5288                           Mini Desktop Racing      Wii        2007.0   \n5340                           Action Girlz Racing      Wii        2007.0   \n5370                         Young Justice: Legacy     X360        2013.0   \n5383                                       FlatOut      Wii        2010.0   \n5412                      Turbo: Super Stunt Squad      3DS        2013.0   \n\n          genre             publisher  north america sales  europe sales  \\\n152        Misc               Ubisoft                 1.54          1.07   \n213   Adventure  Take-Two Interactive                 0.93          1.17   \n224      Sports               Ubisoft                 1.17          0.89   \n272        Misc             Mindscape                 1.87          0.00   \n300   Adventure  Take-Two Interactive                 0.52          0.89   \n...         ...                   ...                  ...           ...   \n5288     Racing        Popcorn Arcade                 0.01          0.00   \n5340     Racing              Metro 3D                 0.01          0.00   \n5370  Adventure    Namco Bandai Games                 0.00          0.01   \n5383     Racing             Zoo Games                 0.01          0.00   \n5412     Sports           D3Publisher                 0.00          0.01   \n\n      japan sales  rest of world sales  global sales  release date  \\\n152          0.00                 0.25          2.86  Oct  8, 2013   \n213          0.03                 0.26          2.39  Oct 29, 2009   \n224          0.00                 0.24          2.30  Dec  2, 2008   \n272          0.00                 0.11          1.98  Jun 22, 2010   \n300          0.13                 0.30          1.84  Apr 13, 2010   \n...           ...                  ...           ...           ...   \n5288         0.00                 0.00          0.01  Dec  4, 2007   \n5340         0.00                 0.00          0.01  Jan 29, 2008   \n5370         0.00                 0.00          0.01  Nov 19, 2013   \n5383         0.00                 0.00          0.01  Nov 23, 2010   \n5412         0.00                 0.00          0.01  Jul 16, 2013   \n\n      critic score  critic outof  critic count user score  user count  \\\n152            NaN           NaN           NaN        5.1         7.0   \n213            NaN           NaN           NaN        8.2        33.0   \n224            NaN           NaN           NaN        8.6        16.0   \n272            NaN           NaN           NaN        5.7        15.0   \n300            NaN           NaN           NaN        8.5        49.0   \n...            ...           ...           ...        ...         ...   \n5288           NaN           NaN           NaN        2.3         6.0   \n5340           NaN           NaN           NaN        1.7        19.0   \n5370           NaN           NaN           NaN        6.2        10.0   \n5383           NaN           NaN           NaN        8.2        13.0   \n5412           NaN           NaN           NaN          4         4.0   \n\n                    developer rating  \n152                   Ubisoft   E10+  \n213            Rockstar North      M  \n224                   Ubisoft      E  \n272      A.C.R.O.N.Y.M. Games   E10+  \n300            Rockstar North      M  \n...                       ...    ...  \n5288  Data Design Interactive      E  \n5340  Data Design Interactive      E  \n5370  Freedom Factory Studios      T  \n5383       Team6 Game Studios      T  \n5412              Torus Games      E  \n\n[137 rows x 18 columns]",
      "text/html": "<div>\n<style scoped>\n    .dataframe tbody tr th:only-of-type {\n        vertical-align: middle;\n    }\n\n    .dataframe tbody tr th {\n        vertical-align: top;\n    }\n\n    .dataframe thead th {\n        text-align: right;\n    }\n</style>\n<table border=\"1\" class=\"dataframe\">\n  <thead>\n    <tr style=\"text-align: right;\">\n      <th></th>\n      <th>name</th>\n      <th>platform</th>\n      <th>release year</th>\n      <th>genre</th>\n      <th>publisher</th>\n      <th>north america sales</th>\n      <th>europe sales</th>\n      <th>japan sales</th>\n      <th>rest of world sales</th>\n      <th>global sales</th>\n      <th>release date</th>\n      <th>critic score</th>\n      <th>critic outof</th>\n      <th>critic count</th>\n      <th>user score</th>\n      <th>user count</th>\n      <th>developer</th>\n      <th>rating</th>\n    </tr>\n  </thead>\n  <tbody>\n    <tr>\n      <th>152</th>\n      <td>Just Dance 2014</td>\n      <td>Wii</td>\n      <td>2013.0</td>\n      <td>Misc</td>\n      <td>Ubisoft</td>\n      <td>1.54</td>\n      <td>1.07</td>\n      <td>0.00</td>\n      <td>0.25</td>\n      <td>2.86</td>\n      <td>Oct  8, 2013</td>\n      <td>NaN</td>\n      <td>NaN</td>\n      <td>NaN</td>\n      <td>5.1</td>\n      <td>7.0</td>\n      <td>Ubisoft</td>\n      <td>E10+</td>\n    </tr>\n    <tr>\n      <th>213</th>\n      <td>Grand Theft Auto: Episodes from Liberty City</td>\n      <td>X360</td>\n      <td>2009.0</td>\n      <td>Adventure</td>\n      <td>Take-Two Interactive</td>\n      <td>0.93</td>\n      <td>1.17</td>\n      <td>0.03</td>\n      <td>0.26</td>\n      <td>2.39</td>\n      <td>Oct 29, 2009</td>\n      <td>NaN</td>\n      <td>NaN</td>\n      <td>NaN</td>\n      <td>8.2</td>\n      <td>33.0</td>\n      <td>Rockstar North</td>\n      <td>M</td>\n    </tr>\n    <tr>\n      <th>224</th>\n      <td>My Fitness Coach</td>\n      <td>Wii</td>\n      <td>2008.0</td>\n      <td>Sports</td>\n      <td>Ubisoft</td>\n      <td>1.17</td>\n      <td>0.89</td>\n      <td>0.00</td>\n      <td>0.24</td>\n      <td>2.30</td>\n      <td>Dec  2, 2008</td>\n      <td>NaN</td>\n      <td>NaN</td>\n      <td>NaN</td>\n      <td>8.6</td>\n      <td>16.0</td>\n      <td>Ubisoft</td>\n      <td>E</td>\n    </tr>\n    <tr>\n      <th>272</th>\n      <td>Wipeout: The Game</td>\n      <td>Wii</td>\n      <td>2009.0</td>\n      <td>Misc</td>\n      <td>Mindscape</td>\n      <td>1.87</td>\n      <td>0.00</td>\n      <td>0.00</td>\n      <td>0.11</td>\n      <td>1.98</td>\n      <td>Jun 22, 2010</td>\n      <td>NaN</td>\n      <td>NaN</td>\n      <td>NaN</td>\n      <td>5.7</td>\n      <td>15.0</td>\n      <td>A.C.R.O.N.Y.M. Games</td>\n      <td>E10+</td>\n    </tr>\n    <tr>\n      <th>300</th>\n      <td>Grand Theft Auto: Episodes from Liberty City</td>\n      <td>PS3</td>\n      <td>2010.0</td>\n      <td>Adventure</td>\n      <td>Take-Two Interactive</td>\n      <td>0.52</td>\n      <td>0.89</td>\n      <td>0.13</td>\n      <td>0.30</td>\n      <td>1.84</td>\n      <td>Apr 13, 2010</td>\n      <td>NaN</td>\n      <td>NaN</td>\n      <td>NaN</td>\n      <td>8.5</td>\n      <td>49.0</td>\n      <td>Rockstar North</td>\n      <td>M</td>\n    </tr>\n    <tr>\n      <th>...</th>\n      <td>...</td>\n      <td>...</td>\n      <td>...</td>\n      <td>...</td>\n      <td>...</td>\n      <td>...</td>\n      <td>...</td>\n      <td>...</td>\n      <td>...</td>\n      <td>...</td>\n      <td>...</td>\n      <td>...</td>\n      <td>...</td>\n      <td>...</td>\n      <td>...</td>\n      <td>...</td>\n      <td>...</td>\n      <td>...</td>\n    </tr>\n    <tr>\n      <th>5288</th>\n      <td>Mini Desktop Racing</td>\n      <td>Wii</td>\n      <td>2007.0</td>\n      <td>Racing</td>\n      <td>Popcorn Arcade</td>\n      <td>0.01</td>\n      <td>0.00</td>\n      <td>0.00</td>\n      <td>0.00</td>\n      <td>0.01</td>\n      <td>Dec  4, 2007</td>\n      <td>NaN</td>\n      <td>NaN</td>\n      <td>NaN</td>\n      <td>2.3</td>\n      <td>6.0</td>\n      <td>Data Design Interactive</td>\n      <td>E</td>\n    </tr>\n    <tr>\n      <th>5340</th>\n      <td>Action Girlz Racing</td>\n      <td>Wii</td>\n      <td>2007.0</td>\n      <td>Racing</td>\n      <td>Metro 3D</td>\n      <td>0.01</td>\n      <td>0.00</td>\n      <td>0.00</td>\n      <td>0.00</td>\n      <td>0.01</td>\n      <td>Jan 29, 2008</td>\n      <td>NaN</td>\n      <td>NaN</td>\n      <td>NaN</td>\n      <td>1.7</td>\n      <td>19.0</td>\n      <td>Data Design Interactive</td>\n      <td>E</td>\n    </tr>\n    <tr>\n      <th>5370</th>\n      <td>Young Justice: Legacy</td>\n      <td>X360</td>\n      <td>2013.0</td>\n      <td>Adventure</td>\n      <td>Namco Bandai Games</td>\n      <td>0.00</td>\n      <td>0.01</td>\n      <td>0.00</td>\n      <td>0.00</td>\n      <td>0.01</td>\n      <td>Nov 19, 2013</td>\n      <td>NaN</td>\n      <td>NaN</td>\n      <td>NaN</td>\n      <td>6.2</td>\n      <td>10.0</td>\n      <td>Freedom Factory Studios</td>\n      <td>T</td>\n    </tr>\n    <tr>\n      <th>5383</th>\n      <td>FlatOut</td>\n      <td>Wii</td>\n      <td>2010.0</td>\n      <td>Racing</td>\n      <td>Zoo Games</td>\n      <td>0.01</td>\n      <td>0.00</td>\n      <td>0.00</td>\n      <td>0.00</td>\n      <td>0.01</td>\n      <td>Nov 23, 2010</td>\n      <td>NaN</td>\n      <td>NaN</td>\n      <td>NaN</td>\n      <td>8.2</td>\n      <td>13.0</td>\n      <td>Team6 Game Studios</td>\n      <td>T</td>\n    </tr>\n    <tr>\n      <th>5412</th>\n      <td>Turbo: Super Stunt Squad</td>\n      <td>3DS</td>\n      <td>2013.0</td>\n      <td>Sports</td>\n      <td>D3Publisher</td>\n      <td>0.00</td>\n      <td>0.01</td>\n      <td>0.00</td>\n      <td>0.00</td>\n      <td>0.01</td>\n      <td>Jul 16, 2013</td>\n      <td>NaN</td>\n      <td>NaN</td>\n      <td>NaN</td>\n      <td>4</td>\n      <td>4.0</td>\n      <td>Torus Games</td>\n      <td>E</td>\n    </tr>\n  </tbody>\n</table>\n<p>137 rows × 18 columns</p>\n</div>"
     },
     "execution_count": 313,
     "metadata": {},
     "output_type": "execute_result"
    }
   ],
   "source": [
    "\"\"\"in this section i've decided to drop all the games with null\n",
    "or tbd user score , most of which are small ,almost not known\n",
    "games , which are some of what anomalies ,i've also dropped\n",
    "the rating , publisher , release date and critics and user\n",
    "count which , at this point doesn't help my model or have\n",
    "another similar instance of them such as : publisher or release date\"\"\"\n",
    "df.isnull().sum()\n",
    "df=df[df['user score']!='tbd']\n",
    "df=df.dropna(subset=['user score'])\n",
    "df['developer'].fillna(df['publisher'],inplace=True)\n",
    "df[df['critic score'].isnull()]\n",
    "# df['critic score'].fillna(df['user score'],inplace=True)\n",
    "# mask=df['release date'].str[8:]\n",
    "# df['release year'].fillna(mask,inplace=True)\n",
    "# df=df.drop(columns=['rating','publisher','release date','critic outof','critic count','user count'])\n",
    "# df.isnull().sum()\n",
    "# df"
   ],
   "metadata": {
    "collapsed": false,
    "pycharm": {
     "name": "#%%\n"
    }
   }
  },
  {
   "cell_type": "code",
   "execution_count": 303,
   "outputs": [
    {
     "data": {
      "text/plain": "name                   0\nplatform               0\nrelease year           0\ngenre                  0\nnorth america sales    0\neurope sales           0\njapan sales            0\nrest of world sales    0\nglobal sales           0\ncritic score           0\nuser score             0\ndeveloper              0\ndtype: int64"
     },
     "execution_count": 303,
     "metadata": {},
     "output_type": "execute_result"
    }
   ],
   "source": [],
   "metadata": {
    "collapsed": false,
    "pycharm": {
     "name": "#%%\n"
    }
   }
  },
  {
   "cell_type": "code",
   "execution_count": null,
   "outputs": [],
   "source": [],
   "metadata": {
    "collapsed": false,
    "pycharm": {
     "name": "#%%\n"
    }
   }
  }
 ],
 "metadata": {
  "kernelspec": {
   "display_name": "Python 3",
   "language": "python",
   "name": "python3"
  },
  "language_info": {
   "codemirror_mode": {
    "name": "ipython",
    "version": 2
   },
   "file_extension": ".py",
   "mimetype": "text/x-python",
   "name": "python",
   "nbconvert_exporter": "python",
   "pygments_lexer": "ipython2",
   "version": "2.7.6"
  }
 },
 "nbformat": 4,
 "nbformat_minor": 0
}