{
 "cells": [
  {
   "cell_type": "markdown",
   "metadata": {},
   "source": [
    "<img src=\"stats.jpg\">"
   ]
  },
  {
   "cell_type": "markdown",
   "metadata": {},
   "source": [
    "# Notebook 1:\n",
    "\n",
    "#  conditional probability and the bayes theorem:\n",
    "## $$P(A|B) = \\frac{P(A \\cap B)}{P(B)}$$\n",
    "## $$P(A|B) = \\frac{P(B|A)P(A)}{P(B)}$$"
   ]
  },
  {
   "cell_type": "markdown",
   "metadata": {},
   "source": [
    "# Question 1:\n",
    "\n",
    "## 1.a:"
   ]
  },
  {
   "cell_type": "markdown",
   "metadata": {},
   "source": [
    "#### first probability of a child being an identical twin (and twin sibling being the same sex) is $$\\frac{1}{300}\\bullet1$$\n",
    "#### probability of a child being a fraternal twin and twin sibling being the same sex is $$\\frac{1}{125}\\bullet\\frac{1}{2}$$\n",
    "\n",
    "#### thus the probability of a child being an identical twin given a twin sibling is the same sex is\n",
    "$$\\frac{\\frac{1}{300}\\bullet1}{\\frac{1}{300}\\bullet1+\\frac{1}{125}\\bullet\\frac{1}{2}}=\\frac{5}{11}$$"
   ]
  },
  {
   "cell_type": "markdown",
   "metadata": {},
   "source": [
    "## 1.b: "
   ]
  },
  {
   "cell_type": "markdown",
   "metadata": {},
   "source": [
    "#### the probability of that he chose chocolate from bowl 1 is : $$\\frac{1}{2}\\bullet\\frac{3}{4}$$\n",
    "#### the probability of that he chose chocholate is : $$\\frac{1}{2}\\bullet\\frac{3}{4}+\\frac{1}{2}\\bullet\\frac{1}{2}=\\frac{5}{8}$$\n",
    "#### so the outcome would be : $$\\frac{\\frac{1}{2}\\bullet\\frac{3}{4}}{\\frac{1}{2}\\bullet\\frac{3}{4}+\\frac{1}{2}\\bullet\\frac{1}{2}}=\\frac{3}{5}=0.6$$"
   ]
  },
  {
   "cell_type": "markdown",
   "metadata": {},
   "source": [
    "# Question 2:"
   ]
  },
  {
   "cell_type": "markdown",
   "metadata": {},
   "source": [
    "#### the probability of that he chose yellow from bag of 1994 is : $$\\frac{1}{5}\\bullet\\frac{1}{2}$$\n",
    "#### the probability of that he chose yellow is : $$\\frac{1}{5}\\bullet\\frac{1}{2}+\\frac{14}{100}\\bullet\\frac{1}{2}$$\n",
    "#### so the outcome would be : $$\\frac{\\frac{1}{5}\\bullet\\frac{1}{2}}{\\frac{1}{5}\\bullet\\frac{1}{2}+\\frac{14}{100}\\bullet\\frac{1}{2}}=\\frac{10}{17}=0.588$$"
   ]
  },
  {
   "cell_type": "markdown",
   "metadata": {},
   "source": [
    "# Question 3: \n",
    " ## 3.a:"
   ]
  },
  {
   "cell_type": "markdown",
   "metadata": {},
   "source": [
    "#### out of 100 healthy people there are 1 sick, 99 healthy\n",
    "#### out of 100 sick people there are 100 sick, 0 healthy\n",
    "#### so that shows us that P(sick)=$$\\frac{1}{10^4}\\bullet1+\\frac{1}{100}\\bullet\\frac{9999}{10^4}$$ , P(positive\\sick)=1\n",
    "#### so the anwser will be P(sick\\positive)=$$\\frac{\\frac{1}{10^4}\\bullet1}{\\frac{1}{10^4}\\bullet1+\\frac{1}{100}\\bullet\\frac{9999}{10^4}}=0.0099$$\n"
   ]
  },
  {
   "cell_type": "markdown",
   "metadata": {},
   "source": [
    "## 3.b:\n",
    "\n",
    "#### since now its 1 out of 200 then our probability to be sick is : $$\\frac{1}{200}$$\n",
    "#### so that shows us that P(sick)= $$\\frac{1}{200}\\bullet1+\\frac{1}{100}\\bullet\\frac{199}{200}$$\n",
    "#### so our anwser will be P(sick\\positive)=$$\\frac{\\frac{1}{200}}{\\frac{1}{200}\\bullet1+\\frac{1}{100}\\bullet\\frac{199}{200}}=\\frac{100}{200}=0.3344$$"
   ]
  },
  {
   "cell_type": "markdown",
   "metadata": {},
   "source": [
    "# Random Variable\n",
    "     \n",
    "\n",
    "# Question 1:\n",
    "#### the formula to caculate the expected value  :$$E(x) = \\sum_{i=1}^n P(xi) \\bullet xi$$\n",
    "#### sums that can be divided by 3 :|3,6,9,12|=4 which is 1\\3 of total sum\n",
    "#### sums not divisable by 3: |1,2,4,5,7,8,10,11|=8 which is 2\\3 of total sum\n",
    "\n",
    "## so our anwser is : $$6\\bullet\\frac{1}{3} + (-3)\\bullet\\frac{2}{3}=0$$"
   ]
  },
  {
   "cell_type": "markdown",
   "metadata": {},
   "source": [
    "# Question 2:\n",
    "\n",
    "####  we have 5*5=25 options for every possible combination.\n",
    "#### Our options to win are: |(8,5),(9,4),(9,5),(10,3),(10,4),(10,5)|= 6\n",
    "#### Our options to even are: |(7,5),(8,4),(9,3),(10,2)|= 4\n",
    "#### our options to lose are:  25 - 10 = 15 \n",
    "#### so we will use our formula again from the last question\n",
    "## and our anwser is :\n",
    " $$5\\bullet\\frac{6}{25}+0\\bullet\\frac{4}{25}+(-6)\\bullet\\frac{15}{25}=-\\frac{12}{5}=-2.4$$"
   ]
  },
  {
   "cell_type": "markdown",
   "metadata": {},
   "source": [
    "# Question 3:\n",
    "\n",
    "#### 40% are males, 60% are females.\n",
    "#### only 8 are chosen out of  200 employees\n",
    "#### so the average of choosing a male is: $$0.4\\bullet8=\\frac{16}{5}=3.2$$\n",
    "#### by the binomial equation\n",
    "#### now to caculate the std we will have to use the following formula : $$ \\sigma = \\sqrt{npq}$$\n",
    "#### where np is the expected number of successes and q=1-p\n",
    "#### and p is the probability of sucess\n",
    "#### since we have 9 options to choose males from : 0-8 \n",
    "#### then so, n =8, p = 0.4,q=0.6\n",
    " $$ \\sigma = \\sqrt{8\\bullet0.4\\bullet0.6}=\\sim\n",
    "1.385\\sim=1.4\n",
    "$$"
   ]
  },
  {
   "cell_type": "markdown",
   "metadata": {},
   "source": [
    "# Question 4: \n",
    "\n",
    "\n",
    "## P(26<X<30)\n",
    "\n",
    "### average = 26,000\n",
    "### std = 2,000\n",
    "\n",
    "#### Note that 30 is far from 26 by the twice standard deviation, so by the 68-95-99.7 rule we know that the distribution for P(22<X<30) is 95%, and we need only P(26<X<30) exactly half.\n",
    "## so that's why :\n",
    "$$13.6\\%+34.1\\% =47.7\\%\\sim= 48 $$\n"
   ]
  },
  {
   "cell_type": "markdown",
   "metadata": {},
   "source": [
    "# Question 5:\n",
    "\n",
    "### The probability for $P(3) = 0.4$,so to caculate probability for $P(x<3)$ we need to calculate the area that under the triangle\n",
    "\n",
    "### the anwser is: $$\\frac{(5-3)\\bullet(0.4)}{2}=0.4$$"
   ]
  },
  {
   "cell_type": "markdown",
   "metadata": {},
   "source": [
    "# Question 6:\n",
    "\n",
    "### Number of employess with children: $$0.6\\bullet500=300$$\n",
    "### Number of employess without children: $$0.4\\bullet500=200$$\n",
    "\n",
    "### we randomly select 4 employees, so in order to calculate the probability to choose exactly 3 with children we need to calculate all combinations.\n",
    "\n",
    "#### all three selected first\n",
    "#### two with children then one without then another one with\n",
    "#### one with children then one without then another two with\n",
    "#### one without children then three with\n",
    "\n",
    "### so we can caculate this with combinatorics:\n",
    "## the anwser is : $${4 \\choose 1}\\bullet(0.6)^3\\bullet(0.4)=0.3456$$"
   ]
  },
  {
   "cell_type": "markdown",
   "metadata": {},
   "source": [
    "# Question 7:\n",
    "## for this question we will use the following formula : \n",
    "\n",
    "\n",
    "$$E(x) = \\sum_{i=1}^n P(xi) \\bullet xi$$\n",
    "\n",
    "$$(-10 \\bullet 0.1) + (-5 \\bullet 0.35) + (0 \\bullet 0.1) + (5 \\bullet 0.35) + (10 \\bullet 0.1)=0$$"
   ]
  },
  {
   "cell_type": "code",
   "execution_count": null,
   "metadata": {},
   "outputs": [],
   "source": []
  }
 ],
 "metadata": {
  "kernelspec": {
   "display_name": "Python 3",
   "language": "python",
   "name": "python3"
  },
  "language_info": {
   "codemirror_mode": {
    "name": "ipython",
    "version": 3
   },
   "file_extension": ".py",
   "mimetype": "text/x-python",
   "name": "python",
   "nbconvert_exporter": "python",
   "pygments_lexer": "ipython3",
   "version": "3.8.3"
  }
 },
 "nbformat": 4,
 "nbformat_minor": 4
}
