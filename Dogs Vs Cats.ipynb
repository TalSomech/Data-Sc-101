{
 "cells": [
  {
   "cell_type": "code",
   "execution_count": 177,
   "metadata": {},
   "outputs": [],
   "source": [
    "import numpy as np \n",
    "import pandas as pd \n",
    "import matplotlib.pyplot as plt \n",
    "import os \n",
    "import random\n",
    "from sklearn.decomposition import PCA\n",
    "import cv2\n",
    "from sklearn.model_selection import train_test_split\n",
    "from sklearn.metrics import accuracy_score\n",
    "path= \"./data/train\"\n",
    "IMG_SIZE=70\n",
    "#os.listdir(path)"
   ]
  },
  {
   "cell_type": "markdown",
   "metadata": {},
   "source": [
    "## lets create our dataframe "
   ]
  },
  {
   "cell_type": "code",
   "execution_count": 178,
   "metadata": {},
   "outputs": [],
   "source": [
    "filenames=os.listdir(path)\n",
    "category=[]\n",
    "\n",
    "for filename in filenames:\n",
    "    if 'dog' in filename:\n",
    "        category.append('dog')\n",
    "    else:\n",
    "        category.append('cat')\n",
    "\n",
    "df={'filename':filenames,'category':category}\n",
    "df=pd.DataFrame(df)"
   ]
  },
  {
   "cell_type": "code",
   "execution_count": 179,
   "metadata": {},
   "outputs": [
    {
     "data": {
      "text/html": [
       "<div>\n",
       "<style scoped>\n",
       "    .dataframe tbody tr th:only-of-type {\n",
       "        vertical-align: middle;\n",
       "    }\n",
       "\n",
       "    .dataframe tbody tr th {\n",
       "        vertical-align: top;\n",
       "    }\n",
       "\n",
       "    .dataframe thead th {\n",
       "        text-align: right;\n",
       "    }\n",
       "</style>\n",
       "<table border=\"1\" class=\"dataframe\">\n",
       "  <thead>\n",
       "    <tr style=\"text-align: right;\">\n",
       "      <th></th>\n",
       "      <th>filename</th>\n",
       "      <th>category</th>\n",
       "    </tr>\n",
       "  </thead>\n",
       "  <tbody>\n",
       "    <tr>\n",
       "      <th>0</th>\n",
       "      <td>dog.3533.jpg</td>\n",
       "      <td>dog</td>\n",
       "    </tr>\n",
       "    <tr>\n",
       "      <th>1</th>\n",
       "      <td>dog.6065.jpg</td>\n",
       "      <td>dog</td>\n",
       "    </tr>\n",
       "    <tr>\n",
       "      <th>2</th>\n",
       "      <td>cat.9414.jpg</td>\n",
       "      <td>cat</td>\n",
       "    </tr>\n",
       "    <tr>\n",
       "      <th>3</th>\n",
       "      <td>cat.4188.jpg</td>\n",
       "      <td>cat</td>\n",
       "    </tr>\n",
       "    <tr>\n",
       "      <th>4</th>\n",
       "      <td>dog.3275.jpg</td>\n",
       "      <td>dog</td>\n",
       "    </tr>\n",
       "    <tr>\n",
       "      <th>...</th>\n",
       "      <td>...</td>\n",
       "      <td>...</td>\n",
       "    </tr>\n",
       "    <tr>\n",
       "      <th>24995</th>\n",
       "      <td>cat.5722.jpg</td>\n",
       "      <td>cat</td>\n",
       "    </tr>\n",
       "    <tr>\n",
       "      <th>24996</th>\n",
       "      <td>dog.1398.jpg</td>\n",
       "      <td>dog</td>\n",
       "    </tr>\n",
       "    <tr>\n",
       "      <th>24997</th>\n",
       "      <td>cat.10665.jpg</td>\n",
       "      <td>cat</td>\n",
       "    </tr>\n",
       "    <tr>\n",
       "      <th>24998</th>\n",
       "      <td>cat.1504.jpg</td>\n",
       "      <td>cat</td>\n",
       "    </tr>\n",
       "    <tr>\n",
       "      <th>24999</th>\n",
       "      <td>dog.3277.jpg</td>\n",
       "      <td>dog</td>\n",
       "    </tr>\n",
       "  </tbody>\n",
       "</table>\n",
       "<p>25000 rows × 2 columns</p>\n",
       "</div>"
      ],
      "text/plain": [
       "            filename category\n",
       "0       dog.3533.jpg      dog\n",
       "1       dog.6065.jpg      dog\n",
       "2       cat.9414.jpg      cat\n",
       "3       cat.4188.jpg      cat\n",
       "4       dog.3275.jpg      dog\n",
       "...              ...      ...\n",
       "24995   cat.5722.jpg      cat\n",
       "24996   dog.1398.jpg      dog\n",
       "24997  cat.10665.jpg      cat\n",
       "24998   cat.1504.jpg      cat\n",
       "24999   dog.3277.jpg      dog\n",
       "\n",
       "[25000 rows x 2 columns]"
      ]
     },
     "execution_count": 179,
     "metadata": {},
     "output_type": "execute_result"
    }
   ],
   "source": [
    "df = df.sample(frac = 1).reset_index(drop=True)\n",
    "#df.reset_index(drop=True)\n",
    "df"
   ]
  },
  {
   "cell_type": "code",
   "execution_count": null,
   "metadata": {},
   "outputs": [],
   "source": []
  },
  {
   "cell_type": "code",
   "execution_count": 180,
   "metadata": {
    "scrolled": false
   },
   "outputs": [
    {
     "data": {
      "text/plain": [
       "<matplotlib.image.AxesImage at 0x225463014c0>"
      ]
     },
     "execution_count": 180,
     "metadata": {},
     "output_type": "execute_result"
    },
    {
     "data": {
      "image/png": "[encoded data removed]",
      "text/plain": [
       "<Figure size 432x288 with 1 Axes>"
      ]
     },
     "metadata": {
      "needs_background": "light"
     },
     "output_type": "display_data"
    }
   ],
   "source": [
    "any_file=random.choice(df.filename)\n",
    "img=cv2.imread(path+'/'+str(any_file))\n",
    "img=cv2.cvtColor(img,cv2.COLOR_RGB2GRAY)\n",
    "img=cv2.resize(img,(IMG_SIZE,IMG_SIZE))\n",
    "plt.imshow(img)"
   ]
  },
  {
   "cell_type": "code",
   "execution_count": 181,
   "metadata": {},
   "outputs": [],
   "source": [
    "#img.shape\n",
    "df[\"category\"] = df[\"category\"].replace({'cat': 1, 'dog': 0})\n",
    "img_data=[]\n",
    "img_label=[]\n",
    "# if 'data.npy'in os.listdir('./'):\n",
    "#     img_data=np.load('/data.npy')\n",
    "# else:\n",
    "for i in range(len(df)):\n",
    "            img_path = path+'/'+df[\"filename\"][i]\n",
    "            image = cv2.imread(img_path,cv2.IMREAD_GRAYSCALE)\n",
    "           # image = cv2.cvtColor(image, cv2.IMREAD_GRAYSCALE)\n",
    "            image = cv2.resize(image, (IMG_SIZE,IMG_SIZE))\n",
    "            #here, we are normalizing the images\n",
    "            norm_image = image/255.0 \n",
    "            #Creating and saving each image in the form of numerical data in an array\n",
    "           # df['data'][i]=np.array(norm_image)\n",
    "            img_data.append(norm_image)\n",
    "            img_label.append(df[\"category\"][i])\n",
    "#np.save('data.npy',img_data)\n",
    "img_data=np.array(img_data)\n",
    "img_label=np.array(img_label)\n",
    "#df[\"data\"]=img_data"
   ]
  },
  {
   "cell_type": "code",
   "execution_count": 182,
   "metadata": {},
   "outputs": [],
   "source": [
    "#df_t = pd.DataFrame({'data': img_label, 'label': img_data}, columns=['label', 'data'])\n",
    "#df_t = pd.DataFrame(img_data, columns=['data'])\n",
    "#img_data.shape"
   ]
  },
  {
   "cell_type": "markdown",
   "metadata": {},
   "source": [
    "## lets split the data to train and test"
   ]
  },
  {
   "cell_type": "code",
   "execution_count": 183,
   "metadata": {},
   "outputs": [
    {
     "data": {
      "text/plain": [
       "(20000,)"
      ]
     },
     "execution_count": 183,
     "metadata": {},
     "output_type": "execute_result"
    }
   ],
   "source": [
    "#df.reset_index(drop=True)\n",
    "#df_train,df_test=train_test_split(df,test_size=0.2,random_state=42)\n",
    "img_data=img_data.reshape(-1,IMG_SIZE*IMG_SIZE)\n",
    "x_train=img_data[:20000]\n",
    "y_train=img_label[:20000]\n",
    "x_test=img_data[20000:]\n",
    "y_test=img_label[20000:]\n",
    "#img_label.shape\n",
    "y_train.shape"
   ]
  },
  {
   "cell_type": "code",
   "execution_count": 146,
   "metadata": {},
   "outputs": [
    {
     "data": {
      "text/plain": [
       "(25000, 4900)"
      ]
     },
     "execution_count": 146,
     "metadata": {},
     "output_type": "execute_result"
    }
   ],
   "source": [
    "# df={'Data':img_data,'label':img_label}\n",
    "# df=pd.DataFrame(df)\n",
    "#df\n",
    "img_data.shape\n",
    "#plt.imshow(x_train[2].reshape(IMG_SIZE,IMG_SIZE))\n",
    "#df_train['data'].shape"
   ]
  },
  {
   "cell_type": "code",
   "execution_count": 147,
   "metadata": {},
   "outputs": [],
   "source": [
    "# x_train=np.array(df_train['data'])\n",
    "#x_train.shape\n",
    "# x_train.shape\n",
    "# plt.imshow(x_train[0])\n",
    "# x_train.shape"
   ]
  },
  {
   "cell_type": "code",
   "execution_count": 184,
   "metadata": {},
   "outputs": [
    {
     "data": {
      "text/plain": [
       "(20000, 317)"
      ]
     },
     "execution_count": 184,
     "metadata": {},
     "output_type": "execute_result"
    }
   ],
   "source": [
    "pca=PCA(n_components=0.9)\n",
    "x_red=pca.fit_transform(x_train)\n",
    "# #y_red=pca.tranform(y_train)\n",
    "# #x_red_inv=pca.inverse_transform(x_red)\n",
    "x_test_red=pca.transform(x_test)\n",
    "x_red.shape"
   ]
  },
  {
   "cell_type": "code",
   "execution_count": 59,
   "metadata": {},
   "outputs": [
    {
     "data": {
      "text/plain": [
       "(5000, 4900)"
      ]
     },
     "execution_count": 59,
     "metadata": {},
     "output_type": "execute_result"
    }
   ],
   "source": [
    "x_test.shape"
   ]
  },
  {
   "cell_type": "code",
   "execution_count": 185,
   "metadata": {},
   "outputs": [],
   "source": [
    "from sklearn.cluster import KMeans\n",
    "from sklearn.pipeline import Pipeline\n",
    "from sklearn.preprocessing import StandardScaler\n",
    "from sklearn.ensemble import VotingClassifier\n",
    "from sklearn.neighbors import KNeighborsClassifier\n",
    "from sklearn.ensemble import RandomForestClassifier\n",
    "from sklearn.ensemble import AdaBoostClassifier\n",
    "from sklearn.linear_model import LogisticRegression\n",
    "from sklearn.metrics import confusion_matrix, classification_report\n",
    "from sklearn.model_selection import GridSearchCV\n",
    "from sklearn.ensemble import BaggingClassifier\n",
    "from sklearn.ensemble import StackingClassifier\n",
    "import xgboost as xgb"
   ]
  },
  {
   "cell_type": "code",
   "execution_count": 186,
   "metadata": {
    "scrolled": false
   },
   "outputs": [
    {
     "name": "stdout",
     "output_type": "stream",
     "text": [
      "              precision    recall  f1-score   support\n",
      "\n",
      "           0     0.6171    0.5941    0.6054      2545\n",
      "           1     0.5949    0.6179    0.6062      2455\n",
      "\n",
      "    accuracy                         0.6058      5000\n",
      "   macro avg     0.6060    0.6060    0.6058      5000\n",
      "weighted avg     0.6062    0.6058    0.6058      5000\n",
      "\n"
     ]
    }
   ],
   "source": [
    "xgb_clf=xgb.XGBClassifier(learning_rate=1,use_label_encoder=False,eval_metric=\"mlogloss\",verbosity=1)\n",
    "xgb_clf.fit(x_red,y_train)\n",
    "y_pred=xgb_clf.predict(x_test_red)\n",
    "#scores[\"XGBoost\"]=accuracy_score(y_test,y_pred)\n",
    "\n",
    "print(classification_report(y_test, y_pred,digits=4))"
   ]
  },
  {
   "cell_type": "code",
   "execution_count": 187,
   "metadata": {},
   "outputs": [
    {
     "name": "stdout",
     "output_type": "stream",
     "text": [
      "[0 1] [ 9955 10045]\n"
     ]
    }
   ],
   "source": [
    "unique, counts = np.unique(y_train, return_counts=True)\n",
    "print(unique,counts)"
   ]
  },
  {
   "cell_type": "code",
   "execution_count": 188,
   "metadata": {},
   "outputs": [
    {
     "data": {
      "text/plain": [
       "<matplotlib.image.AxesImage at 0x2254635d2b0>"
      ]
     },
     "execution_count": 188,
     "metadata": {},
     "output_type": "execute_result"
    },
    {
     "data": {
      "image/png": "[encoded data removed]",
      "text/plain": [
       "<Figure size 432x288 with 1 Axes>"
      ]
     },
     "metadata": {
      "needs_background": "light"
     },
     "output_type": "display_data"
    }
   ],
   "source": [
    "#rev=pca.inverse_transform(x_red)\n",
    "plt.imshow(x_test[643].reshape(IMG_SIZE,IMG_SIZE),cmap=plt.cm.binary)\n"
   ]
  },
  {
   "cell_type": "code",
   "execution_count": 189,
   "metadata": {},
   "outputs": [
    {
     "name": "stdout",
     "output_type": "stream",
     "text": [
      "              precision    recall  f1-score   support\n",
      "\n",
      "           0     0.6265    0.6605    0.6431      2545\n",
      "           1     0.6271    0.5919    0.6090      2455\n",
      "\n",
      "    accuracy                         0.6268      5000\n",
      "   macro avg     0.6268    0.6262    0.6260      5000\n",
      "weighted avg     0.6268    0.6268    0.6263      5000\n",
      "\n"
     ]
    }
   ],
   "source": [
    "rf_clf=RandomForestClassifier(n_estimators=400,oob_score=True)\n",
    "rf_clf.fit(x_red,y_train)\n",
    "y_pred=rf_clf.predict(x_test_red)\n",
    "#scores.append({\"Random Forest\":accuracy_score(y_test,y_pred)})\n",
    "#scores[\"Random Forest\"]=accuracy_score(y_test,y_pred)\n",
    "print(classification_report(y_test, y_pred,digits=4))"
   ]
  },
  {
   "cell_type": "code",
   "execution_count": 190,
   "metadata": {},
   "outputs": [
    {
     "name": "stdout",
     "output_type": "stream",
     "text": [
      "[0 1] [2683 2317]\n"
     ]
    }
   ],
   "source": [
    "unique, counts = np.unique(y_pred, return_counts=True)\n",
    "print(unique,counts)"
   ]
  },
  {
   "cell_type": "code",
   "execution_count": 191,
   "metadata": {},
   "outputs": [
    {
     "name": "stdout",
     "output_type": "stream",
     "text": [
      "[0 1] [2545 2455]\n"
     ]
    }
   ],
   "source": [
    "unique, counts = np.unique(y_test, return_counts=True)\n",
    "print(unique,counts)"
   ]
  },
  {
   "cell_type": "code",
   "execution_count": 164,
   "metadata": {},
   "outputs": [
    {
     "data": {
      "text/plain": [
       "array([[0.21568627, 0.62745098, 0.52941176, ..., 0.72156863, 0.68235294,\n",
       "        0.75686275],\n",
       "       [0.4627451 , 0.19607843, 0.61960784, ..., 0.29019608, 0.53333333,\n",
       "        0.21568627],\n",
       "       [0.9254902 , 0.9254902 , 0.9372549 , ..., 0.67843137, 0.69019608,\n",
       "        0.69411765],\n",
       "       ...,\n",
       "       [0.1372549 , 0.15686275, 0.18823529, ..., 0.75686275, 0.4627451 ,\n",
       "        0.68235294],\n",
       "       [1.        , 0.97254902, 0.90980392, ..., 0.43921569, 0.44313725,\n",
       "        0.47058824],\n",
       "       [0.94117647, 0.94901961, 0.94901961, ..., 0.99607843, 0.99607843,\n",
       "        0.99607843]])"
      ]
     },
     "execution_count": 164,
     "metadata": {},
     "output_type": "execute_result"
    }
   ],
   "source": [
    "x_test"
   ]
  },
  {
   "cell_type": "code",
   "execution_count": null,
   "metadata": {},
   "outputs": [],
   "source": []
  }
 ],
 "metadata": {
  "kernelspec": {
   "display_name": "Python 3",
   "language": "python",
   "name": "python3"
  }
 },
 "nbformat": 4,
 "nbformat_minor": 4
}
