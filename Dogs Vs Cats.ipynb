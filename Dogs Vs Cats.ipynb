{
 "cells": [
  {
   "cell_type": "code",
   "execution_count": 1,
   "metadata": {},
   "outputs": [],
   "source": [
    "import numpy as np \n",
    "import pandas as pd \n",
    "import matplotlib.pyplot as plt \n",
    "import os \n",
    "import random\n",
    "from sklearn.decomposition import PCA\n",
    "import cv2\n",
    "from sklearn.model_selection import train_test_split\n",
    "from sklearn.metrics import accuracy_score\n",
    "path= \"./data/train\"\n",
    "IMG_SIZE=90\n",
    "#os.listdir(path)"
   ]
  },
  {
   "cell_type": "markdown",
   "metadata": {},
   "source": [
    "## lets create our dataframe "
   ]
  },
  {
   "cell_type": "code",
   "execution_count": 2,
   "metadata": {},
   "outputs": [],
   "source": [
    "filenames=os.listdir(path)\n",
    "category=[]\n",
    "#dog is 1 cat is 0\n",
    "for filename in filenames:\n",
    "    if 'dog' in filename:\n",
    "        category.append(1)\n",
    "    else:\n",
    "        category.append(0)\n",
    "\n",
    "df={'filename':filenames,'category':category}\n",
    "df=pd.DataFrame(df)"
   ]
  },
  {
   "cell_type": "code",
   "execution_count": 3,
   "metadata": {},
   "outputs": [],
   "source": [
    "#df = df.sample(frac = 1).reset_index(drop=True)\n",
    "train_df, validate_df = train_test_split(df, test_size=0.2,shuffle=True,random_state=42)\n",
    "train_df = train_df.reset_index()\n",
    "validate_df = validate_df.reset_index()\n",
    "#df.reset_index(drop=True)"
   ]
  },
  {
   "cell_type": "code",
   "execution_count": 4,
   "metadata": {},
   "outputs": [
    {
     "data": {
      "text/html": [
       "<div>\n",
       "<style scoped>\n",
       "    .dataframe tbody tr th:only-of-type {\n",
       "        vertical-align: middle;\n",
       "    }\n",
       "\n",
       "    .dataframe tbody tr th {\n",
       "        vertical-align: top;\n",
       "    }\n",
       "\n",
       "    .dataframe thead th {\n",
       "        text-align: right;\n",
       "    }\n",
       "</style>\n",
       "<table border=\"1\" class=\"dataframe\">\n",
       "  <thead>\n",
       "    <tr style=\"text-align: right;\">\n",
       "      <th></th>\n",
       "      <th>index</th>\n",
       "      <th>filename</th>\n",
       "      <th>category</th>\n",
       "    </tr>\n",
       "  </thead>\n",
       "  <tbody>\n",
       "    <tr>\n",
       "      <th>0</th>\n",
       "      <td>6868</td>\n",
       "      <td>cat.493.jpg</td>\n",
       "      <td>0</td>\n",
       "    </tr>\n",
       "    <tr>\n",
       "      <th>1</th>\n",
       "      <td>24016</td>\n",
       "      <td>dog.9112.jpg</td>\n",
       "      <td>1</td>\n",
       "    </tr>\n",
       "    <tr>\n",
       "      <th>2</th>\n",
       "      <td>9668</td>\n",
       "      <td>cat.745.jpg</td>\n",
       "      <td>0</td>\n",
       "    </tr>\n",
       "    <tr>\n",
       "      <th>3</th>\n",
       "      <td>13640</td>\n",
       "      <td>dog.11022.jpg</td>\n",
       "      <td>1</td>\n",
       "    </tr>\n",
       "    <tr>\n",
       "      <th>4</th>\n",
       "      <td>14018</td>\n",
       "      <td>dog.11363.jpg</td>\n",
       "      <td>1</td>\n",
       "    </tr>\n",
       "    <tr>\n",
       "      <th>...</th>\n",
       "      <td>...</td>\n",
       "      <td>...</td>\n",
       "      <td>...</td>\n",
       "    </tr>\n",
       "    <tr>\n",
       "      <th>4995</th>\n",
       "      <td>8670</td>\n",
       "      <td>cat.6551.jpg</td>\n",
       "      <td>0</td>\n",
       "    </tr>\n",
       "    <tr>\n",
       "      <th>4996</th>\n",
       "      <td>11839</td>\n",
       "      <td>cat.9403.jpg</td>\n",
       "      <td>0</td>\n",
       "    </tr>\n",
       "    <tr>\n",
       "      <th>4997</th>\n",
       "      <td>4013</td>\n",
       "      <td>cat.236.jpg</td>\n",
       "      <td>0</td>\n",
       "    </tr>\n",
       "    <tr>\n",
       "      <th>4998</th>\n",
       "      <td>21147</td>\n",
       "      <td>dog.6530.jpg</td>\n",
       "      <td>1</td>\n",
       "    </tr>\n",
       "    <tr>\n",
       "      <th>4999</th>\n",
       "      <td>695</td>\n",
       "      <td>cat.10622.jpg</td>\n",
       "      <td>0</td>\n",
       "    </tr>\n",
       "  </tbody>\n",
       "</table>\n",
       "<p>5000 rows × 3 columns</p>\n",
       "</div>"
      ],
      "text/plain": [
       "      index       filename  category\n",
       "0      6868    cat.493.jpg         0\n",
       "1     24016   dog.9112.jpg         1\n",
       "2      9668    cat.745.jpg         0\n",
       "3     13640  dog.11022.jpg         1\n",
       "4     14018  dog.11363.jpg         1\n",
       "...     ...            ...       ...\n",
       "4995   8670   cat.6551.jpg         0\n",
       "4996  11839   cat.9403.jpg         0\n",
       "4997   4013    cat.236.jpg         0\n",
       "4998  21147   dog.6530.jpg         1\n",
       "4999    695  cat.10622.jpg         0\n",
       "\n",
       "[5000 rows x 3 columns]"
      ]
     },
     "execution_count": 4,
     "metadata": {},
     "output_type": "execute_result"
    }
   ],
   "source": [
    "validate_df"
   ]
  },
  {
   "cell_type": "code",
   "execution_count": 5,
   "metadata": {},
   "outputs": [],
   "source": [
    "train_df=train_df.drop(\"index\",axis=1)\n",
    "validate_df=validate_df.drop(\"index\",axis=1)"
   ]
  },
  {
   "cell_type": "code",
   "execution_count": 6,
   "metadata": {},
   "outputs": [
    {
     "data": {
      "text/plain": [
       "1    10015\n",
       "0     9985\n",
       "Name: category, dtype: int64"
      ]
     },
     "execution_count": 6,
     "metadata": {},
     "output_type": "execute_result"
    }
   ],
   "source": [
    "train_df[\"category\"].value_counts()\n",
    "#train_df"
   ]
  },
  {
   "cell_type": "code",
   "execution_count": 7,
   "metadata": {
    "scrolled": false
   },
   "outputs": [
    {
     "data": {
      "text/plain": [
       "<matplotlib.image.AxesImage at 0x128fafa0a00>"
      ]
     },
     "execution_count": 7,
     "metadata": {},
     "output_type": "execute_result"
    },
    {
     "data": {
      "image/png": "[encoded data removed]",
      "text/plain": [
       "<Figure size 432x288 with 1 Axes>"
      ]
     },
     "metadata": {
      "needs_background": "light"
     },
     "output_type": "display_data"
    }
   ],
   "source": [
    "any_file=random.choice(df.filename)\n",
    "img=cv2.imread(path+'/'+str(any_file))\n",
    "img=cv2.cvtColor(img,cv2.COLOR_RGB2GRAY)\n",
    "img=cv2.resize(img,(IMG_SIZE,IMG_SIZE))\n",
    "plt.imshow(img)"
   ]
  },
  {
   "cell_type": "code",
   "execution_count": 8,
   "metadata": {},
   "outputs": [],
   "source": [
    "#img.shape\n",
    "#df[\"category\"] = df[\"category\"].replace({'cat': 1, 'dog': 0})\n",
    "x_train=[]\n",
    "y_train=[]\n",
    "x_test=[]\n",
    "y_test=[]\n",
    "for i in range(len(train_df)):\n",
    "            img_path = path+'/'+train_df[\"filename\"][i]\n",
    "            image = cv2.imread(img_path,cv2.IMREAD_GRAYSCALE)\n",
    "           # image = cv2.cvtColor(image, cv2.IMREAD_GRAYSCALE)\n",
    "            image = cv2.resize(image, (IMG_SIZE,IMG_SIZE))\n",
    "            #here, we are normalizing the images\n",
    "            norm_image = image/255.0 \n",
    "            #Creating and saving each image in the form of numerical data in an array\n",
    "           # df['data'][i]=np.array(norm_image)\n",
    "            x_train.append(norm_image)\n",
    "            y_train.append(train_df[\"category\"][i])\n",
    "for i in range(len(validate_df)):\n",
    "            img_path = path+'/'+validate_df[\"filename\"][i]\n",
    "            image = cv2.imread(img_path,cv2.IMREAD_GRAYSCALE)\n",
    "           # image = cv2.cvtColor(image, cv2.IMREAD_GRAYSCALE)\n",
    "            image = cv2.resize(image, (IMG_SIZE,IMG_SIZE))\n",
    "            #here, we are normalizing the images\n",
    "            norm_image = image/255.0 \n",
    "            #Creating and saving each image in the form of numerical data in an array\n",
    "            # df['data'][i]=np.array(norm_image)\n",
    "            x_test.append(norm_image)\n",
    "            y_test.append(validate_df[\"category\"][i])\n",
    "#np.save('data.npy',img_data)\n",
    "x_train=np.array(x_train)\n",
    "y_train=np.array(y_train)\n",
    "x_test=np.array(x_test)\n",
    "y_test=np.array(y_test)\n",
    "#df[\"data\"]=img_data"
   ]
  },
  {
   "cell_type": "code",
   "execution_count": 9,
   "metadata": {},
   "outputs": [
    {
     "data": {
      "text/html": [
       "<div>\n",
       "<style scoped>\n",
       "    .dataframe tbody tr th:only-of-type {\n",
       "        vertical-align: middle;\n",
       "    }\n",
       "\n",
       "    .dataframe tbody tr th {\n",
       "        vertical-align: top;\n",
       "    }\n",
       "\n",
       "    .dataframe thead th {\n",
       "        text-align: right;\n",
       "    }\n",
       "</style>\n",
       "<table border=\"1\" class=\"dataframe\">\n",
       "  <thead>\n",
       "    <tr style=\"text-align: right;\">\n",
       "      <th></th>\n",
       "      <th>filename</th>\n",
       "      <th>category</th>\n",
       "    </tr>\n",
       "  </thead>\n",
       "  <tbody>\n",
       "    <tr>\n",
       "      <th>0</th>\n",
       "      <td>cat.493.jpg</td>\n",
       "      <td>0</td>\n",
       "    </tr>\n",
       "    <tr>\n",
       "      <th>1</th>\n",
       "      <td>dog.9112.jpg</td>\n",
       "      <td>1</td>\n",
       "    </tr>\n",
       "    <tr>\n",
       "      <th>2</th>\n",
       "      <td>cat.745.jpg</td>\n",
       "      <td>0</td>\n",
       "    </tr>\n",
       "    <tr>\n",
       "      <th>3</th>\n",
       "      <td>dog.11022.jpg</td>\n",
       "      <td>1</td>\n",
       "    </tr>\n",
       "    <tr>\n",
       "      <th>4</th>\n",
       "      <td>dog.11363.jpg</td>\n",
       "      <td>1</td>\n",
       "    </tr>\n",
       "    <tr>\n",
       "      <th>...</th>\n",
       "      <td>...</td>\n",
       "      <td>...</td>\n",
       "    </tr>\n",
       "    <tr>\n",
       "      <th>4995</th>\n",
       "      <td>cat.6551.jpg</td>\n",
       "      <td>0</td>\n",
       "    </tr>\n",
       "    <tr>\n",
       "      <th>4996</th>\n",
       "      <td>cat.9403.jpg</td>\n",
       "      <td>0</td>\n",
       "    </tr>\n",
       "    <tr>\n",
       "      <th>4997</th>\n",
       "      <td>cat.236.jpg</td>\n",
       "      <td>0</td>\n",
       "    </tr>\n",
       "    <tr>\n",
       "      <th>4998</th>\n",
       "      <td>dog.6530.jpg</td>\n",
       "      <td>1</td>\n",
       "    </tr>\n",
       "    <tr>\n",
       "      <th>4999</th>\n",
       "      <td>cat.10622.jpg</td>\n",
       "      <td>0</td>\n",
       "    </tr>\n",
       "  </tbody>\n",
       "</table>\n",
       "<p>5000 rows × 2 columns</p>\n",
       "</div>"
      ],
      "text/plain": [
       "           filename  category\n",
       "0       cat.493.jpg         0\n",
       "1      dog.9112.jpg         1\n",
       "2       cat.745.jpg         0\n",
       "3     dog.11022.jpg         1\n",
       "4     dog.11363.jpg         1\n",
       "...             ...       ...\n",
       "4995   cat.6551.jpg         0\n",
       "4996   cat.9403.jpg         0\n",
       "4997    cat.236.jpg         0\n",
       "4998   dog.6530.jpg         1\n",
       "4999  cat.10622.jpg         0\n",
       "\n",
       "[5000 rows x 2 columns]"
      ]
     },
     "execution_count": 9,
     "metadata": {},
     "output_type": "execute_result"
    }
   ],
   "source": [
    "#df_t = pd.DataFrame({'data': img_label, 'label': img_data}, columns=['label', 'data'])\n",
    "#df_t = pd.DataFrame(img_data, columns=['data'])\n",
    "#img_data.shape\n",
    "#y_train.shap\n",
    "validate_df\n",
    "#y_train.value\n",
    "#x_test.shape"
   ]
  },
  {
   "cell_type": "markdown",
   "metadata": {},
   "source": [
    "## lets split the data to train and test"
   ]
  },
  {
   "cell_type": "code",
   "execution_count": 13,
   "metadata": {},
   "outputs": [
    {
     "data": {
      "text/plain": [
       "(20000,)"
      ]
     },
     "execution_count": 13,
     "metadata": {},
     "output_type": "execute_result"
    }
   ],
   "source": [
    "#df.reset_index(drop=True)\n",
    "#df_train,df_test=train_test_split(df,test_size=0.2,random_state=42)\n",
    "#img_data=img_data.reshape(-1,IMG_SIZE*IMG_SIZE)\n",
    "x_train=x_train.reshape(-1,IMG_SIZE*IMG_SIZE)\n",
    "x_test=x_test.reshape(-1,IMG_SIZE*IMG_SIZE)\n",
    "# x_train=img_data[:20000]\n",
    "# y_train=img_label[:20000]\n",
    "# x_test=img_data[20000:]\n",
    "# y_test=img_label[20000:]\n",
    "#img_label.shape\n",
    "y_train.shape"
   ]
  },
  {
   "cell_type": "code",
   "execution_count": 14,
   "metadata": {},
   "outputs": [
    {
     "data": {
      "text/plain": [
       "(20000, 8100)"
      ]
     },
     "execution_count": 14,
     "metadata": {},
     "output_type": "execute_result"
    }
   ],
   "source": [
    "# df={'Data':img_data,'label':img_label}\n",
    "# df=pd.DataFrame(df)\n",
    "#df\n",
    "#img_data.shape\n",
    "x_train.shape\n",
    "#plt.imshow(x_train[2].reshape(IMG_SIZE,IMG_SIZE))\n",
    "#df_train['data'].shape"
   ]
  },
  {
   "cell_type": "code",
   "execution_count": 15,
   "metadata": {},
   "outputs": [],
   "source": [
    "# x_train=np.array(df_train['data'])\n",
    "#x_train.shape\n",
    "# x_train.shape\n",
    "# plt.imshow(x_train[0])\n",
    "# x_train.shape"
   ]
  },
  {
   "cell_type": "code",
   "execution_count": null,
   "metadata": {},
   "outputs": [],
   "source": [
    "pca=PCA(n_components=0.9)\n",
    "x_red=pca.fit_transform(x_train)\n",
    "# #y_red=pca.tranform(y_train)\n",
    "# #x_red_inv=pca.inverse_transform(x_red)\n",
    "x_test_red=pca.transform(x_test)\n",
    "x_red.shape"
   ]
  },
  {
   "cell_type": "code",
   "execution_count": 21,
   "metadata": {},
   "outputs": [
    {
     "data": {
      "text/plain": [
       "(5000, 4900)"
      ]
     },
     "execution_count": 21,
     "metadata": {},
     "output_type": "execute_result"
    }
   ],
   "source": [
    "x_test.shape"
   ]
  },
  {
   "cell_type": "code",
   "execution_count": 23,
   "metadata": {},
   "outputs": [],
   "source": [
    "from sklearn.cluster import KMeans\n",
    "from sklearn.pipeline import Pipeline\n",
    "from sklearn.preprocessing import StandardScaler\n",
    "from sklearn.ensemble import VotingClassifier\n",
    "from sklearn.neighbors import KNeighborsClassifier\n",
    "from sklearn.ensemble import RandomForestClassifier\n",
    "from sklearn.ensemble import AdaBoostClassifier\n",
    "from sklearn.linear_model import LogisticRegression\n",
    "from sklearn.metrics import confusion_matrix, classification_report\n",
    "from sklearn.model_selection import GridSearchCV\n",
    "from sklearn.ensemble import BaggingClassifier\n",
    "from sklearn.ensemble import StackingClassifier\n",
    "from sklearn.ensemble import ExtraTreesClassifier\n",
    "import xgboost as xgb"
   ]
  },
  {
   "cell_type": "code",
   "execution_count": 21,
   "metadata": {
    "pycharm": {
     "is_executing": true
    }
   },
   "outputs": [
    {
     "name": "stdout",
     "output_type": "stream",
     "text": [
      "Fitting 5 folds for each of 5 candidates, totalling 25 fits\n"
     ]
    }
   ],
   "source": [
    "# knn_grid={'n_neighbors':[120,200,300]}\n",
    "# knn_gs=GridSearchCV(KNeighborsClassifier(),knn_grid,verbose=3,n_jobs=-1)\n",
    "# knn_gs_results =knn_gs.fit(x_red,y_train)\n",
    "# xgb_grid={'n_estimators':[150,200,300,400],'learning_rate':[0.1,0.5,1]}\n",
    "# xgb_gs=GridSearchCV(xgb.XGBClassifier(use_label_encoder=False,eval_metric=\"mlogloss\"),xgb_grid,cv=5,\n",
    "#                     scoring='accuracy',verbose=10,n_jobs=-1)\n",
    "# xgb_gs_results =xgb_gs.fit(x_red,y_train)\n",
    "# ens_grid={'base_estimator':[LogisticRegression(multi_class='ovr',max_iter=1000),RandomForestClassifier(n_estimators=1200)\n",
    "#                            ]}\n",
    "# ada_gs=GridSearchCV(AdaBoostClassifier(),ens_grid,cv=3,\n",
    "#                      scoring='accuracy',verbose=3,n_jobs=-1)\n",
    "# ada_gs_results=ada_gs.fit(x_red,y_train)\n",
    "# xrf_grid={'n_estimators':[500,700,1000,1200,2000]}\n",
    "# xrf_gs=GridSearchCV(ExtraTreesClassifier(bootstrap=True,oob_score=True,random_state=42),xrf_grid,cv=5, scoring='accuracy',verbose=10,n_jobs=-1)\n",
    "# xrf_gs_result=xrf_gs.fit(x_red,y_train)"
   ]
  },
  {
   "cell_type": "code",
   "execution_count": 22,
   "metadata": {
    "scrolled": false
   },
   "outputs": [
    {
     "data": {
      "text/plain": [
       "ExtraTreesClassifier(bootstrap=True, n_estimators=2000, oob_score=True,\n",
       "                     random_state=42)"
      ]
     },
     "execution_count": 22,
     "metadata": {},
     "output_type": "execute_result"
    }
   ],
   "source": [
    "xrf_gs_result.best_estimator_"
   ]
  },
  {
   "cell_type": "code",
   "execution_count": null,
   "metadata": {},
   "outputs": [],
   "source": []
  },
  {
   "cell_type": "code",
   "execution_count": 24,
   "metadata": {
    "pycharm": {
     "name": "#%%\n"
    }
   },
   "outputs": [
    {
     "name": "stdout",
     "output_type": "stream",
     "text": [
      "              precision    recall  f1-score   support\n",
      "\n",
      "           0     0.6250    0.6394    0.6321      2515\n",
      "           1     0.6263    0.6117    0.6189      2485\n",
      "\n",
      "    accuracy                         0.6256      5000\n",
      "   macro avg     0.6256    0.6255    0.6255      5000\n",
      "weighted avg     0.6256    0.6256    0.6255      5000\n",
      "\n"
     ]
    }
   ],
   "source": [
    "xgb_clf=xgb.XGBClassifier(learning_rate=0.1,n_estimators=400,use_label_encoder=False,objective=\"binary:logistic\",eval_metric=\"auc\",verbosity=1)\n",
    "xgb_clf.fit(x_red,y_train)\n",
    "y_pred=xgb_clf.predict(x_test_red)\n",
    "#scores[\"XGBoost\"]=accuracy_score(y_test,y_pred)\n",
    "\n",
    "print(classification_report(y_test, y_pred,digits=4))"
   ]
  },
  {
   "cell_type": "code",
   "execution_count": 12,
   "metadata": {},
   "outputs": [
    {
     "ename": "SyntaxError",
     "evalue": "invalid syntax (<ipython-input-12-498024f7e4f8>, line 6)",
     "output_type": "error",
     "traceback": [
      "\u001b[1;36m  File \u001b[1;32m\"<ipython-input-12-498024f7e4f8>\"\u001b[1;36m, line \u001b[1;32m6\u001b[0m\n\u001b[1;33m    ],weights=[1,3,1,2] voting='soft', n_jobs=-1,verbose=True)\u001b[0m\n\u001b[1;37m                        ^\u001b[0m\n\u001b[1;31mSyntaxError\u001b[0m\u001b[1;31m:\u001b[0m invalid syntax\n"
     ]
    }
   ],
   "source": [
    "vote_clf =VotingClassifier(estimators=[\n",
    "            ('knn_bag', BaggingClassifier(KNeighborsClassifier(n_neighbors=30),n_jobs=-1)),\n",
    "            ('xgb',xgb.XGBClassifier(learning_rate=0.5,n_estimators=400,use_label_encoder=False,eval_metric=\"mlogloss\")),\n",
    "            ('rf', ExtraTreesClassifier(n_estimators=1200)),\n",
    "            AdaBoostClassifier(RandomForestClassifier(n_estimators=1000,oob_score=True),learning_rate=0.5,random_state=42)\n",
    "        ],weights=[1,3,1,2],voting='soft', n_jobs=-1,verbose=True)\n",
    "vote_clf.fit(x_red,y_train)\n",
    "y_pred=vote_clf.predict(x_test_red)\n",
    "print(classification_report(y_test, y_pred,digits=4))\n",
    "#scores[\"Votingz\"]=accuracy_score(y_test,y_pred)"
   ]
  },
  {
   "cell_type": "code",
   "execution_count": 79,
   "metadata": {},
   "outputs": [
    {
     "data": {
      "text/plain": [
       "(10000, 4900)"
      ]
     },
     "execution_count": 79,
     "metadata": {},
     "output_type": "execute_result"
    }
   ],
   "source": [
    "# unique, counts = np.unique(y_train, return_counts=True)\n",
    "# print(unique,counts)\n",
    "# y_test\n",
    "x_test.shape"
   ]
  },
  {
   "cell_type": "code",
   "execution_count": 188,
   "metadata": {},
   "outputs": [
    {
     "data": {
      "text/plain": [
       "<matplotlib.image.AxesImage at 0x2254635d2b0>"
      ]
     },
     "execution_count": 188,
     "metadata": {},
     "output_type": "execute_result"
    },
    {
     "data": {
      "image/png": "[encoded data removed]",
      "text/plain": [
       "<Figure size 432x288 with 1 Axes>"
      ]
     },
     "metadata": {
      "needs_background": "light"
     },
     "output_type": "display_data"
    }
   ],
   "source": [
    "#rev=pca.inverse_transform(x_red)\n",
    "plt.imshow(x_test[643].reshape(IMG_SIZE,IMG_SIZE),cmap=plt.cm.binary)\n"
   ]
  },
  {
   "cell_type": "code",
   "execution_count": 189,
   "metadata": {},
   "outputs": [
    {
     "name": "stdout",
     "output_type": "stream",
     "text": [
      "              precision    recall  f1-score   support\n",
      "\n",
      "           0     0.6265    0.6605    0.6431      2545\n",
      "           1     0.6271    0.5919    0.6090      2455\n",
      "\n",
      "    accuracy                         0.6268      5000\n",
      "   macro avg     0.6268    0.6262    0.6260      5000\n",
      "weighted avg     0.6268    0.6268    0.6263      5000\n",
      "\n"
     ]
    }
   ],
   "source": [
    "rf_clf=RandomForestClassifier(n_estimators=400,oob_score=True)\n",
    "rf_clf.fit(x_red,y_train)\n",
    "y_pred=rf_clf.predict(x_test_red)\n",
    "#scores.append({\"Random Forest\":accuracy_score(y_test,y_pred)})\n",
    "#scores[\"Random Forest\"]=accuracy_score(y_test,y_pred)\n",
    "print(classification_report(y_test, y_pred,digits=4))"
   ]
  },
  {
   "cell_type": "code",
   "execution_count": 14,
   "metadata": {},
   "outputs": [
    {
     "name": "stdout",
     "output_type": "stream",
     "text": [
      "[1] [2500]\n"
     ]
    }
   ],
   "source": [
    "unique, counts = np.unique(y_pred, return_counts=True)\n",
    "print(unique,counts)"
   ]
  },
  {
   "cell_type": "code",
   "execution_count": 15,
   "metadata": {},
   "outputs": [
    {
     "name": "stdout",
     "output_type": "stream",
     "text": [
      "[0 1] [1298 1202]\n"
     ]
    }
   ],
   "source": [
    "unique, counts = np.unique(y_test, return_counts=True)\n",
    "print(unique,counts)"
   ]
  },
  {
   "cell_type": "code",
   "execution_count": 164,
   "metadata": {},
   "outputs": [
    {
     "data": {
      "text/plain": [
       "array([[0.21568627, 0.62745098, 0.52941176, ..., 0.72156863, 0.68235294,\n",
       "        0.75686275],\n",
       "       [0.4627451 , 0.19607843, 0.61960784, ..., 0.29019608, 0.53333333,\n",
       "        0.21568627],\n",
       "       [0.9254902 , 0.9254902 , 0.9372549 , ..., 0.67843137, 0.69019608,\n",
       "        0.69411765],\n",
       "       ...,\n",
       "       [0.1372549 , 0.15686275, 0.18823529, ..., 0.75686275, 0.4627451 ,\n",
       "        0.68235294],\n",
       "       [1.        , 0.97254902, 0.90980392, ..., 0.43921569, 0.44313725,\n",
       "        0.47058824],\n",
       "       [0.94117647, 0.94901961, 0.94901961, ..., 0.99607843, 0.99607843,\n",
       "        0.99607843]])"
      ]
     },
     "execution_count": 164,
     "metadata": {},
     "output_type": "execute_result"
    }
   ],
   "source": [
    "x_test"
   ]
  },
  {
   "cell_type": "code",
   "execution_count": null,
   "metadata": {},
   "outputs": [],
   "source": []
  }
 ],
 "metadata": {
  "kernelspec": {
   "display_name": "Python 3",
   "language": "python",
   "name": "python3"
  },
  "language_info": {
   "codemirror_mode": {
    "name": "ipython",
    "version": 3
   },
   "file_extension": ".py",
   "mimetype": "text/x-python",
   "name": "python",
   "nbconvert_exporter": "python",
   "pygments_lexer": "ipython3",
   "version": "3.8.5"
  }
 },
 "nbformat": 4,
 "nbformat_minor": 4
}
