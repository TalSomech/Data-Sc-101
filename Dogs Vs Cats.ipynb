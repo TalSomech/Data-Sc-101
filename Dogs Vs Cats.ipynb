{
 "cells": [
  {
   "cell_type": "code",
   "execution_count": 1,
   "metadata": {},
   "outputs": [],
   "source": [
    "import numpy as np \n",
    "import pandas as pd \n",
    "import matplotlib.pyplot as plt \n",
    "import os \n",
    "import random\n",
    "from sklearn.decomposition import PCA\n",
    "import cv2\n",
    "from sklearn.model_selection import train_test_split\n",
    "from sklearn.metrics import accuracy_score\n",
    "path= \"./data/train\"\n",
    "IMG_SIZE=34\n",
    "#os.listdir(path)"
   ]
  },
  {
   "cell_type": "markdown",
   "metadata": {},
   "source": [
    "## lets create our dataframe "
   ]
  },
  {
   "cell_type": "code",
   "execution_count": 2,
   "metadata": {},
   "outputs": [],
   "source": [
    "filenames=os.listdir(path)\n",
    "category=[]\n",
    "#dog is 1 cat is 0\n",
    "for filename in filenames:\n",
    "    if 'dog' in filename:\n",
    "        category.append(1)\n",
    "    else:\n",
    "        category.append(0)\n",
    "\n",
    "df={'filename':filenames,'label':category}\n",
    "df=pd.DataFrame(df)\n",
    "\n",
    "# df={'label':category,'data':np.array(data)}\n",
    "# df=pd.DataFrame(df)"
   ]
  },
  {
   "cell_type": "code",
   "execution_count": 3,
   "metadata": {},
   "outputs": [],
   "source": [
    "#df = df.sample(frac = 1).reset_index(drop=True)\n",
    "train_df, test_df = train_test_split(df, test_size=0.2,shuffle=True,random_state=42)\n",
    "# s_train_df,validate_df=train_test_split(train_df, test_size=0.2,shuffle=True,random_state=42)\n",
    "train_df = train_df.reset_index()\n",
    "test_df = test_df.reset_index()\n",
    "# s_train_df = s_train_df.reset_index()\n",
    "# validate_df = validate_df.reset_index()\n",
    "train_df=train_df.drop(\"index\",axis=1)\n",
    "test_df=test_df.drop(\"index\",axis=1)\n",
    "# s_train_df=s_train_df.drop(\"index\",axis=1)\n",
    "# validate_df=validate_df.drop(\"index\",axis=1)\n",
    "#df.reset_index(drop=True)"
   ]
  },
  {
   "cell_type": "code",
   "execution_count": 202,
   "metadata": {},
   "outputs": [
    {
     "data": {
      "text/plain": [
       "()"
      ]
     },
     "execution_count": 202,
     "metadata": {},
     "output_type": "execute_result"
    }
   ],
   "source": []
  },
  {
   "cell_type": "code",
   "execution_count": 154,
   "metadata": {},
   "outputs": [
    {
     "data": {
      "text/plain": [
       "array([0.36862745, 0.67058824, 0.82352941, ..., 0.00392157, 0.01176471,\n",
       "       0.01176471])"
      ]
     },
     "execution_count": 154,
     "metadata": {},
     "output_type": "execute_result"
    }
   ],
   "source": [
    "training_data[:][0][0]"
   ]
  },
  {
   "cell_type": "code",
   "execution_count": 208,
   "metadata": {},
   "outputs": [
    {
     "data": {
      "text/plain": [
       "1    10015\n",
       "0     9985\n",
       "Name: label, dtype: int64"
      ]
     },
     "execution_count": 208,
     "metadata": {},
     "output_type": "execute_result"
    }
   ],
   "source": [
    "train_df[\"label\"].value_counts()\n",
    "#train_df"
   ]
  },
  {
   "cell_type": "code",
   "execution_count": 13,
   "metadata": {
    "scrolled": false
   },
   "outputs": [
    {
     "ename": "AttributeError",
     "evalue": "'DataFrame' object has no attribute 'filename'",
     "output_type": "error",
     "traceback": [
      "\u001b[1;31m---------------------------------------------------------------------------\u001b[0m",
      "\u001b[1;31mAttributeError\u001b[0m                            Traceback (most recent call last)",
      "\u001b[1;32m<ipython-input-13-d8c507d0e3b7>\u001b[0m in \u001b[0;36m<module>\u001b[1;34m\u001b[0m\n\u001b[1;32m----> 1\u001b[1;33m \u001b[0many_file\u001b[0m\u001b[1;33m=\u001b[0m\u001b[0mrandom\u001b[0m\u001b[1;33m.\u001b[0m\u001b[0mchoice\u001b[0m\u001b[1;33m(\u001b[0m\u001b[0mdf\u001b[0m\u001b[1;33m.\u001b[0m\u001b[0mfilename\u001b[0m\u001b[1;33m)\u001b[0m\u001b[1;33m\u001b[0m\u001b[1;33m\u001b[0m\u001b[0m\n\u001b[0m\u001b[0;32m      2\u001b[0m \u001b[0mimg\u001b[0m\u001b[1;33m=\u001b[0m\u001b[0mcv2\u001b[0m\u001b[1;33m.\u001b[0m\u001b[0mimread\u001b[0m\u001b[1;33m(\u001b[0m\u001b[0mpath\u001b[0m\u001b[1;33m+\u001b[0m\u001b[1;34m'/'\u001b[0m\u001b[1;33m+\u001b[0m\u001b[0mstr\u001b[0m\u001b[1;33m(\u001b[0m\u001b[0many_file\u001b[0m\u001b[1;33m)\u001b[0m\u001b[1;33m)\u001b[0m\u001b[1;33m\u001b[0m\u001b[1;33m\u001b[0m\u001b[0m\n\u001b[0;32m      3\u001b[0m \u001b[0mimg\u001b[0m\u001b[1;33m=\u001b[0m\u001b[0mcv2\u001b[0m\u001b[1;33m.\u001b[0m\u001b[0mcvtColor\u001b[0m\u001b[1;33m(\u001b[0m\u001b[0mimg\u001b[0m\u001b[1;33m,\u001b[0m\u001b[0mcv2\u001b[0m\u001b[1;33m.\u001b[0m\u001b[0mCOLOR_RGB2GRAY\u001b[0m\u001b[1;33m)\u001b[0m\u001b[1;33m\u001b[0m\u001b[1;33m\u001b[0m\u001b[0m\n\u001b[0;32m      4\u001b[0m \u001b[0mimg\u001b[0m\u001b[1;33m=\u001b[0m\u001b[0mcv2\u001b[0m\u001b[1;33m.\u001b[0m\u001b[0mresize\u001b[0m\u001b[1;33m(\u001b[0m\u001b[0mimg\u001b[0m\u001b[1;33m,\u001b[0m\u001b[1;33m(\u001b[0m\u001b[0mIMG_SIZE\u001b[0m\u001b[1;33m,\u001b[0m\u001b[0mIMG_SIZE\u001b[0m\u001b[1;33m)\u001b[0m\u001b[1;33m)\u001b[0m\u001b[1;33m\u001b[0m\u001b[1;33m\u001b[0m\u001b[0m\n\u001b[0;32m      5\u001b[0m \u001b[0mplt\u001b[0m\u001b[1;33m.\u001b[0m\u001b[0mimshow\u001b[0m\u001b[1;33m(\u001b[0m\u001b[0mimg\u001b[0m\u001b[1;33m)\u001b[0m\u001b[1;33m\u001b[0m\u001b[1;33m\u001b[0m\u001b[0m\n",
      "\u001b[1;32mC:\\ProgramData\\Anaconda3\\lib\\site-packages\\pandas\\core\\generic.py\u001b[0m in \u001b[0;36m__getattr__\u001b[1;34m(self, name)\u001b[0m\n\u001b[0;32m   5137\u001b[0m             \u001b[1;32mif\u001b[0m \u001b[0mself\u001b[0m\u001b[1;33m.\u001b[0m\u001b[0m_info_axis\u001b[0m\u001b[1;33m.\u001b[0m\u001b[0m_can_hold_identifiers_and_holds_name\u001b[0m\u001b[1;33m(\u001b[0m\u001b[0mname\u001b[0m\u001b[1;33m)\u001b[0m\u001b[1;33m:\u001b[0m\u001b[1;33m\u001b[0m\u001b[1;33m\u001b[0m\u001b[0m\n\u001b[0;32m   5138\u001b[0m                 \u001b[1;32mreturn\u001b[0m \u001b[0mself\u001b[0m\u001b[1;33m[\u001b[0m\u001b[0mname\u001b[0m\u001b[1;33m]\u001b[0m\u001b[1;33m\u001b[0m\u001b[1;33m\u001b[0m\u001b[0m\n\u001b[1;32m-> 5139\u001b[1;33m             \u001b[1;32mreturn\u001b[0m \u001b[0mobject\u001b[0m\u001b[1;33m.\u001b[0m\u001b[0m__getattribute__\u001b[0m\u001b[1;33m(\u001b[0m\u001b[0mself\u001b[0m\u001b[1;33m,\u001b[0m \u001b[0mname\u001b[0m\u001b[1;33m)\u001b[0m\u001b[1;33m\u001b[0m\u001b[1;33m\u001b[0m\u001b[0m\n\u001b[0m\u001b[0;32m   5140\u001b[0m \u001b[1;33m\u001b[0m\u001b[0m\n\u001b[0;32m   5141\u001b[0m     \u001b[1;32mdef\u001b[0m \u001b[0m__setattr__\u001b[0m\u001b[1;33m(\u001b[0m\u001b[0mself\u001b[0m\u001b[1;33m,\u001b[0m \u001b[0mname\u001b[0m\u001b[1;33m:\u001b[0m \u001b[0mstr\u001b[0m\u001b[1;33m,\u001b[0m \u001b[0mvalue\u001b[0m\u001b[1;33m)\u001b[0m \u001b[1;33m->\u001b[0m \u001b[1;32mNone\u001b[0m\u001b[1;33m:\u001b[0m\u001b[1;33m\u001b[0m\u001b[1;33m\u001b[0m\u001b[0m\n",
      "\u001b[1;31mAttributeError\u001b[0m: 'DataFrame' object has no attribute 'filename'"
     ]
    }
   ],
   "source": [
    "any_file=random.choice(df.filename)\n",
    "img=cv2.imread(path+'/'+str(any_file))\n",
    "img=cv2.cvtColor(img,cv2.COLOR_RGB2GRAY)\n",
    "img=cv2.resize(img,(IMG_SIZE,IMG_SIZE))\n",
    "plt.imshow(img)"
   ]
  },
  {
   "cell_type": "code",
   "execution_count": 4,
   "metadata": {},
   "outputs": [],
   "source": [
    "def convers(df):\n",
    "    x=[]\n",
    "    y=[]\n",
    "    for i in range(len(df)):\n",
    "        img_path = path+'/'+df[\"filename\"][i]\n",
    "        image = cv2.imread(img_path)\n",
    "         # image = cv2.cvtColor(image, cv2.IMREAD_GRAYSCALE)\n",
    "        image = cv2.resize(image, (IMG_SIZE,IMG_SIZE))\n",
    "          #here, we are normalizing the images\n",
    "        norm_image = image/255.0 \n",
    "          #Creating and saving each image in the form of numerical data in an array\n",
    "         # df['data'][i]=np.array(norm_image)\n",
    "        x.append(norm_image.flatten())\n",
    "        y.append(df[\"label\"][i])\n",
    "    x=np.array(x)\n",
    "    y=np.array(y)\n",
    "    return (x,y)"
   ]
  },
  {
   "cell_type": "code",
   "execution_count": 5,
   "metadata": {},
   "outputs": [],
   "source": [
    "\n",
    "#np.save('data.npy',img_data)\n",
    "x_train,y_train=convers(train_df)\n",
    "x_test,y_test=convers(test_df)\n",
    "#y_train=np.array(y_train)\n",
    "#x_test=np.array(x_test)\n",
    "#y_test=np.array(y_test)\n",
    "#df[\"data\"]=img_data"
   ]
  },
  {
   "cell_type": "code",
   "execution_count": 214,
   "metadata": {},
   "outputs": [
    {
     "data": {
      "text/plain": [
       "(20000, 3468)"
      ]
     },
     "execution_count": 214,
     "metadata": {},
     "output_type": "execute_result"
    }
   ],
   "source": [
    "#df_t = pd.DataFrame({'data': img_label, 'label': img_data}, columns=['label', 'data'])\n",
    "#df_t = pd.DataFrame(img_data, columns=['data'])\n",
    "#img_data.shape\n",
    "#y_train.shap\n",
    "validate_df\n",
    "#y_train.value\n",
    "#x_test.shape\n",
    "x_train.shape"
   ]
  },
  {
   "cell_type": "markdown",
   "metadata": {},
   "source": [
    "## lets split the data to train and test"
   ]
  },
  {
   "cell_type": "code",
   "execution_count": 173,
   "metadata": {},
   "outputs": [
    {
     "name": "stderr",
     "output_type": "stream",
     "text": [
      "<ipython-input-173-f5d0b1309a85>:4: VisibleDeprecationWarning: Creating an ndarray from ragged nested sequences (which is a list-or-tuple of lists-or-tuples-or ndarrays with different lengths or shapes) is deprecated. If you meant to do this, you must specify 'dtype=object' when creating the ndarray\n",
      "  x_train=np.array(train_df[:][:][0])#train_df.drop(labels=\"label\",axis=1).to_numpy()\n"
     ]
    },
    {
     "data": {
      "text/plain": [
       "(20000,)"
      ]
     },
     "execution_count": 173,
     "metadata": {},
     "output_type": "execute_result"
    }
   ],
   "source": [
    "#df.reset_index(drop=True)\n",
    "#df_train,df_test=train_test_split(df,test_size=0.2,random_state=42)\n",
    "#img_data=img_data.reshape(-1,IMG_SIZE*IMG_SIZE)\n",
    "#x_train=np.array(train_df[][:][0])#train_df.drop(labels=\"label\",axis=1).to_numpy()\n",
    "# y_train=train_df[\"label\"]\n",
    "# x_test=test_df.drop(labels=\"label\",axis=1)\n",
    "# y_test=test_df[\"label\"]\n",
    "# x_train=x_train.reshape(-1,IMG_SIZE*IMG_SIZE)\n",
    "# x_test=x_test.reshape(-1,IMG_SIZE*IMG_SIZE)\n",
    "# x_train=img_data[:20000]\n",
    "# y_train=img_label[:20000]\n",
    "# x_test=img_data[20000:]\n",
    "# y_test=img_label[20000:]\n",
    "#img_label.shape\n",
    "y_train.shape"
   ]
  },
  {
   "cell_type": "code",
   "execution_count": 187,
   "metadata": {},
   "outputs": [
    {
     "data": {
      "text/plain": [
       "numpy.ndarray"
      ]
     },
     "execution_count": 187,
     "metadata": {},
     "output_type": "execute_result"
    }
   ],
   "source": [
    "# df={'Data':img_data,'label':img_label}\n",
    "# df=pd.DataFrame(df)\n",
    "#df\n",
    "#img_data.shape\n",
    "#x_train\n",
    "#plt.imshow(x_train[2].reshape(IMG_SIZE,IMG_SIZE))\n",
    "#df_train['data'].shape\n",
    "#x_train=pd.DataFrame(train_df)[0].to_numpy()\n",
    "#type(x_train)"
   ]
  },
  {
   "cell_type": "code",
   "execution_count": 9,
   "metadata": {},
   "outputs": [],
   "source": [
    "# x_train=np.array(df_train['data'])\n",
    "#x_train.shape\n",
    "# x_train.shape\n",
    "# plt.imshow(x_train[0])\n",
    "# x_train.shape"
   ]
  },
  {
   "cell_type": "code",
   "execution_count": 191,
   "metadata": {},
   "outputs": [
    {
     "ename": "ValueError",
     "evalue": "cannot reshape array of size 20000 into shape (1156)",
     "output_type": "error",
     "traceback": [
      "\u001b[1;31m---------------------------------------------------------------------------\u001b[0m",
      "\u001b[1;31mValueError\u001b[0m                                Traceback (most recent call last)",
      "\u001b[1;32m<ipython-input-191-181fdcd4b81c>\u001b[0m in \u001b[0;36m<module>\u001b[1;34m\u001b[0m\n\u001b[1;32m----> 1\u001b[1;33m \u001b[0mx_train\u001b[0m\u001b[1;33m.\u001b[0m\u001b[0mreshape\u001b[0m\u001b[1;33m(\u001b[0m\u001b[1;33m-\u001b[0m\u001b[1;36m1\u001b[0m\u001b[1;33m,\u001b[0m\u001b[1;36m34\u001b[0m\u001b[1;33m*\u001b[0m\u001b[1;36m34\u001b[0m\u001b[1;33m)\u001b[0m\u001b[1;33m\u001b[0m\u001b[1;33m\u001b[0m\u001b[0m\n\u001b[0m",
      "\u001b[1;31mValueError\u001b[0m: cannot reshape array of size 20000 into shape (1156)"
     ]
    }
   ],
   "source": []
  },
  {
   "cell_type": "code",
   "execution_count": 6,
   "metadata": {},
   "outputs": [],
   "source": [
    "pca=PCA(n_components=0.9)\n",
    "x_red=pca.fit_transform(x_train)\n",
    "# #y_red=pca.tranform(y_train)\n",
    "# #x_red_inv=pca.inverse_transform(x_red)\n",
    "x_test_red=pca.transform(x_test)\n",
    "#x_red.shape"
   ]
  },
  {
   "cell_type": "code",
   "execution_count": 7,
   "metadata": {},
   "outputs": [
    {
     "data": {
      "text/plain": [
       "(20000, 317)"
      ]
     },
     "execution_count": 7,
     "metadata": {},
     "output_type": "execute_result"
    }
   ],
   "source": [
    "x_red.shape"
   ]
  },
  {
   "cell_type": "code",
   "execution_count": 8,
   "metadata": {},
   "outputs": [],
   "source": [
    "from sklearn.cluster import KMeans\n",
    "from sklearn.pipeline import Pipeline\n",
    "from sklearn.preprocessing import StandardScaler\n",
    "from sklearn.ensemble import VotingClassifier\n",
    "from sklearn.neighbors import KNeighborsClassifier\n",
    "from sklearn.ensemble import RandomForestClassifier\n",
    "from sklearn.ensemble import AdaBoostClassifier\n",
    "from sklearn.linear_model import LogisticRegression\n",
    "from sklearn.metrics import confusion_matrix, classification_report\n",
    "from sklearn.model_selection import GridSearchCV\n",
    "from sklearn.ensemble import BaggingClassifier\n",
    "from sklearn.ensemble import StackingClassifier\n",
    "from sklearn.ensemble import ExtraTreesClassifier\n",
    "import xgboost as xgb\n",
    "from sklearn.neighbors import KNeighborsClassifier\n",
    "from sklearn.linear_model import LogisticRegression\n",
    "from sklearn.model_selection import RandomizedSearchCV"
   ]
  },
  {
   "cell_type": "code",
   "execution_count": null,
   "metadata": {
    "pycharm": {
     "is_executing": true
    }
   },
   "outputs": [
    {
     "name": "stderr",
     "output_type": "stream",
     "text": [
      "C:\\Users\\talso\\AppData\\Roaming\\Python\\Python38\\site-packages\\sklearn\\model_selection\\_search.py:285: UserWarning: The total space of parameters 27 is smaller than n_iter=50. Running 27 iterations. For exhaustive searches, use GridSearchCV.\n",
      "  warnings.warn(\n"
     ]
    },
    {
     "name": "stdout",
     "output_type": "stream",
     "text": [
      "Fitting 5 folds for each of 27 candidates, totalling 135 fits\n"
     ]
    }
   ],
   "source": [
    "# knn_grid={'n_neighbors':[120,200,300]}\n",
    "# knn_gs=GridSearchCV(KNeighborsClassifier(),knn_grid,verbose=3,n_jobs=-1)\n",
    "# knn_gs_results =knn_gs.fit(x_red,y_train)\n",
    "# xgb_grid={'n_estimators':[150,200,300,400],'learning_rate':[0.1,0.5,1]}\n",
    "# xgb_gs=GridSearchCV(xgb.XGBClassifier(use_label_encoder=False,eval_metric=\"mlogloss\"),xgb_grid,cv=5,\n",
    "#                     scoring='accuracy',verbose=10,n_jobs=-1)\n",
    "# xgb_gs_results =xgb_gs.fit(x_red,y_train)\n",
    "# ens_grid={'base_estimator':[LogisticRegression(multi_class='ovr',max_iter=1000),RandomForestClassifier(n_estimators=1200)\n",
    "#                            ]}\n",
    "# ada_gs=GridSearchCV(AdaBoostClassifier(),ens_grid,cv=3,\n",
    "#                      scoring='accuracy',verbose=3,n_jobs=-1)\n",
    "# ada_gs_results=ada_gs.fit(x_red,y_train)\n",
    "# xrf_grid={'n_estimators':[500,700,1000,1200,2000]}\n",
    "# xrf_gs=GridSearchCV(ExtraTreesClassifier(bootstrap=True,oob_score=True,random_state=42),xrf_grid,cv=5, scoring='accuracy',verbose=10,n_jobs=-1)\n",
    "# xrf_gs_result=xrf_gs.fit(x_red,y_train)\n",
    "# ada_params={'lr':LogisticRegression(),'rf':RandomForestClassifier(n_estimators=400,oob_score=True),'XRF':ExtraTreesClassifier()}\n",
    "# C = np.logspace(0, 4, num=10)\n",
    "# penalty = ['l1', 'l2']\n",
    "# solver = ['liblinear', 'saga']\n",
    "# hyperparameters = dict(C=C, penalty=penalty, solver=solver)\n",
    "# randomizedsearch = RandomizedSearchCV(LogisticRegression(), hyperparameters,random_state=42, n_iter=100, cv=5, verbose=0, n_jobs=-1)\n",
    "# best_model_random = randomizedsearch.fit(x_red, y_train)\n",
    "# print(best_model_random.best_estimator_)\n",
    "#LogisticRegression(C=7.742636826811269, penalty='l1', solver='liblinear')\n",
    "# parameters = {'booster':['gbtree','gblinear'],\n",
    "#               'learning_rate': [0.01,0.05,0.1,0.5], \n",
    "#               'max_depth': [2,3,5,6],\n",
    "#               'min_child_weight': [5,10,15,20],\n",
    "#               'colsample_bytree': [0.4,0.8, 0.9, 1],\n",
    "#               'n_estimators': [400,500,600,1000],\n",
    "#               \"reg_alpha\"   : [0.5,0.2,1],\n",
    "#               \"reg_lambda\"  : [2,3,5],\n",
    "#               \"gamma\"       : [0,1,5,10]}\n",
    "# xgb_model = xgb.XGBClassifier(random_state=42,eval_metric='auc',use_label_encoder=False)\n",
    "# grid_obj_xgb = RandomizedSearchCV(xgb_model,parameters,cv=5,n_iter=50,scoring='accuracy',verbose=2,n_jobs=-1)\n",
    "# grid_obj_xgb.fit(x_red, y_train,verbose = 1)\n",
    "# y_pred_train = grid_obj_xgb.predict(x_red)\n",
    "# y_pred_test = grid_obj_xgb.predict(x_test_red)\n",
    "# ada_params={'base_estimator':[ExtraTreesClassifier(n_estimators=1000),LogisticRegression(C=7.742636826811269, penalty='l1', solver='liblinear'),\n",
    "#                              RandomForestClassifier(n_estimators=1000)],'learning_rate':[0.01,0.05,0.1]}\n",
    "# #err_xgb_train=mean_absolute_error(y_train, y_pred_train, multioutput='raw_values')\n",
    "# print(grid_obj_xgb.best_estimator_)\n",
    "# XGBClassifier(base_score=0.5, booster='gbtree', colsample_bylevel=1,\n",
    "#               colsample_bynode=1, colsample_bytree=0.9, eval_metric='auc',\n",
    "#               gamma=0, gpu_id=-1, importance_type='gain',\n",
    "#               interaction_constraints='', learning_rate=0.1, max_delta_step=0,\n",
    "#               max_depth=5, min_child_weight=15, missing=nan,\n",
    "#               monotone_constraints='()', n_estimators=400, n_jobs=16,\n",
    "#               num_parallel_tree=1, random_state=42, reg_alpha=0.2, reg_lambda=3,\n",
    "#               scale_pos_weight=1, subsample=1, tree_method='exact',\n",
    "#               use_label_encoder=False, validate_parameters=1, verbosity=None)\n",
    "knn_params={'n_neighbors':[20,50,90,130],'leaf_size':[30,70,120]}\n",
    "knn_clf=KNeighborsClassifier()\n",
    "RandomizedSearchCV(knn_clf,knn_params, cv=5,n_iter=50,scoring='accuracy',verbose=2,n_jobs=-1)\n",
    "xrf_grid={'n_estimators':[500,700,1000,1200,2000]}\n",
    "xrf_clf=ExtraTreesClassifier()\n",
    "RandomizedSearchCV(xrf_clf,xrf_grid, cv=5,n_iter=50,scoring='accuracy',verbose=2,n_jobs=-1)\n",
    "ada_params={'base_estimator':[ExtraTreesClassifier(n_estimators=1000),LogisticRegression(C=7.742636826811269, penalty='l1', solver='liblinear'),\n",
    "                              RandomForestClassifier(n_estimators=1000)],'learning_rate':[0.01,0.05,0.1],'n_estimators':[100,400,700]}\n",
    "ada_clf=AdaBoostClassifier()\n",
    "grid_obj_ada = RandomizedSearchCV(ada_clf,ada_params, cv=5,n_iter=50,scoring='accuracy',verbose=2,n_jobs=-1)\n",
    "grid_obj_ada.fit(x_red,y_train)\n",
    "print(grid_obj_ada.best_estimator_)\n",
    "# AdaBoostClassifier(base_estimator=RandomForestClassifier(n_estimators=1000),\n",
    "#                    learning_rate=0.05)"
   ]
  },
  {
   "cell_type": "code",
   "execution_count": 11,
   "metadata": {
    "scrolled": false
   },
   "outputs": [
    {
     "name": "stdout",
     "output_type": "stream",
     "text": [
      "XGBClassifier(base_score=0.5, booster='gbtree', colsample_bylevel=1,\n",
      "              colsample_bynode=1, colsample_bytree=0.9, gamma=1, gpu_id=-1,\n",
      "              importance_type='gain', interaction_constraints='',\n",
      "              learning_rate=0.1, max_delta_step=0, max_depth=5,\n",
      "              min_child_weight=5, missing=nan, monotone_constraints='()',\n",
      "              n_estimators=500, n_jobs=16, num_parallel_tree=1, random_state=42,\n",
      "              reg_alpha=1, reg_lambda=3, scale_pos_weight=1, subsample=1,\n",
      "              tree_method='exact', validate_parameters=1, verbosity=None)\n"
     ]
    }
   ],
   "source": [
    "print(grid_obj_xgb.best_estimator_)"
   ]
  },
  {
   "cell_type": "code",
   "execution_count": 1,
   "metadata": {},
   "outputs": [
    {
     "ename": "NameError",
     "evalue": "name 'knn_params' is not defined",
     "output_type": "error",
     "traceback": [
      "\u001b[1;31m---------------------------------------------------------------------------\u001b[0m",
      "\u001b[1;31mNameError\u001b[0m                                 Traceback (most recent call last)",
      "\u001b[1;32m~\\AppData\\Local\\Temp/ipykernel_16656/3372617687.py\u001b[0m in \u001b[0;36m<module>\u001b[1;34m\u001b[0m\n\u001b[1;32m----> 1\u001b[1;33m \u001b[0mknn_params\u001b[0m\u001b[1;33m\u001b[0m\u001b[1;33m\u001b[0m\u001b[0m\n\u001b[0m",
      "\u001b[1;31mNameError\u001b[0m: name 'knn_params' is not defined"
     ]
    }
   ],
   "source": []
  },
  {
   "cell_type": "code",
   "execution_count": 13,
   "metadata": {},
   "outputs": [],
   "source": [
    "from matplotlib import pyplot\n",
    "def vis_data(model,X_test,y_test,X_train,y_train):\n",
    "\n",
    "    eval_set = [(X_train, y_train), (X_test, y_test)]\n",
    "    eval_metric = [\"auc\",\"error\"]\n",
    "    # fit the model\n",
    "    model.fit(X_train, y_train, eval_metric=eval_metric, eval_set=eval_set,verbose=False)\n",
    "    # evaluate performance\n",
    "    y_pred = model.predict(X_test)\n",
    "    score = accuracy_score(y_test, y_pred)\n",
    "    print('Accuracy: %.3f' % score)\n",
    "    # retrieve performance metrics\n",
    "    results = model.evals_result()\n",
    "    # plot learning curves\n",
    "    plt.subplot(1, 2, 1)\n",
    "    pyplot.plot(results['validation_0']['auc'], label='train')\n",
    "    pyplot.plot(results['validation_1']['auc'], label='test')\n",
    "    # show the legend\n",
    "    pyplot.legend()\n",
    "    # show the plot\n",
    "    pyplot.show()\n",
    "    print(classification_report(y_pred,y_test,digits=4))\n",
    "    # plot classification error\n",
    "    fig, ax = pyplot.subplots()\n",
    "    plt.subplot(1, 2, 2)\n",
    "    pyplot.plot(results['validation_0']['error'], label='train')\n",
    "    pyplot.plot(results['validation_1']['error'], label='test')\n",
    "   # ax.legend()\n",
    "    pyplot.ylabel('Classification Error')\n",
    "    pyplot.title('XGBoost Classification Error')\n",
    "    pyplot.show()"
   ]
  },
  {
   "cell_type": "code",
   "execution_count": 19,
   "metadata": {},
   "outputs": [
    {
     "ename": "TypeError",
     "evalue": "fit() got an unexpected keyword argument 'eval_metric'",
     "output_type": "error",
     "traceback": [
      "\u001b[1;31m---------------------------------------------------------------------------\u001b[0m",
      "\u001b[1;31mTypeError\u001b[0m                                 Traceback (most recent call last)",
      "\u001b[1;32m~\\AppData\\Local\\Temp/ipykernel_22288/143135008.py\u001b[0m in \u001b[0;36m<module>\u001b[1;34m\u001b[0m\n\u001b[0;32m      2\u001b[0m                    learning_rate=0.05)\n\u001b[0;32m      3\u001b[0m \u001b[0mada_clf\u001b[0m\u001b[1;33m.\u001b[0m\u001b[0mfit\u001b[0m\u001b[1;33m(\u001b[0m\u001b[0mx_red\u001b[0m\u001b[1;33m,\u001b[0m\u001b[0my_train\u001b[0m\u001b[1;33m)\u001b[0m\u001b[1;33m\u001b[0m\u001b[1;33m\u001b[0m\u001b[0m\n\u001b[1;32m----> 4\u001b[1;33m \u001b[0mvis_data\u001b[0m\u001b[1;33m(\u001b[0m\u001b[0mada_clf\u001b[0m\u001b[1;33m,\u001b[0m\u001b[0mx_test_red\u001b[0m\u001b[1;33m,\u001b[0m\u001b[0my_test\u001b[0m\u001b[1;33m,\u001b[0m\u001b[0mx_red\u001b[0m\u001b[1;33m,\u001b[0m\u001b[0my_train\u001b[0m\u001b[1;33m)\u001b[0m\u001b[1;33m\u001b[0m\u001b[1;33m\u001b[0m\u001b[0m\n\u001b[0m",
      "\u001b[1;32m~\\AppData\\Local\\Temp/ipykernel_22288/277894400.py\u001b[0m in \u001b[0;36mvis_data\u001b[1;34m(model, X_test, y_test, X_train, y_train)\u001b[0m\n\u001b[0;32m      5\u001b[0m     \u001b[0meval_metric\u001b[0m \u001b[1;33m=\u001b[0m \u001b[1;33m[\u001b[0m\u001b[1;34m\"auc\"\u001b[0m\u001b[1;33m,\u001b[0m\u001b[1;34m\"error\"\u001b[0m\u001b[1;33m]\u001b[0m\u001b[1;33m\u001b[0m\u001b[1;33m\u001b[0m\u001b[0m\n\u001b[0;32m      6\u001b[0m     \u001b[1;31m# fit the model\u001b[0m\u001b[1;33m\u001b[0m\u001b[1;33m\u001b[0m\u001b[1;33m\u001b[0m\u001b[0m\n\u001b[1;32m----> 7\u001b[1;33m     \u001b[0mmodel\u001b[0m\u001b[1;33m.\u001b[0m\u001b[0mfit\u001b[0m\u001b[1;33m(\u001b[0m\u001b[0mX_train\u001b[0m\u001b[1;33m,\u001b[0m \u001b[0my_train\u001b[0m\u001b[1;33m,\u001b[0m \u001b[0meval_metric\u001b[0m\u001b[1;33m=\u001b[0m\u001b[0meval_metric\u001b[0m\u001b[1;33m,\u001b[0m \u001b[0meval_set\u001b[0m\u001b[1;33m=\u001b[0m\u001b[0meval_set\u001b[0m\u001b[1;33m,\u001b[0m\u001b[0mverbose\u001b[0m\u001b[1;33m=\u001b[0m\u001b[1;32mFalse\u001b[0m\u001b[1;33m)\u001b[0m\u001b[1;33m\u001b[0m\u001b[1;33m\u001b[0m\u001b[0m\n\u001b[0m\u001b[0;32m      8\u001b[0m     \u001b[1;31m# evaluate performance\u001b[0m\u001b[1;33m\u001b[0m\u001b[1;33m\u001b[0m\u001b[1;33m\u001b[0m\u001b[0m\n\u001b[0;32m      9\u001b[0m     \u001b[0my_pred\u001b[0m \u001b[1;33m=\u001b[0m \u001b[0mmodel\u001b[0m\u001b[1;33m.\u001b[0m\u001b[0mpredict\u001b[0m\u001b[1;33m(\u001b[0m\u001b[0mX_test\u001b[0m\u001b[1;33m)\u001b[0m\u001b[1;33m\u001b[0m\u001b[1;33m\u001b[0m\u001b[0m\n",
      "\u001b[1;31mTypeError\u001b[0m: fit() got an unexpected keyword argument 'eval_metric'"
     ]
    }
   ],
   "source": [
    "ada_clf=AdaBoostClassifier(base_estimator=RandomForestClassifier(n_estimators=1000),\n",
    "                   learning_rate=0.05)\n",
    "ada_clf.fit(x_red,y_train)\n",
    "y_pred=ada_clf.predict(x_test_red)\n",
    "print(classification_report(y_test, y_pred,digits=4))\n",
    "#vis_data(ada_clf,x_test_red,y_test,x_red,y_train)"
   ]
  },
  {
   "cell_type": "code",
   "execution_count": 17,
   "metadata": {
    "pycharm": {
     "name": "#%%\n"
    }
   },
   "outputs": [
    {
     "name": "stderr",
     "output_type": "stream",
     "text": [
      "C:\\ProgramData\\Anaconda3\\lib\\site-packages\\xgboost\\sklearn.py:1146: UserWarning: The use of label encoder in XGBClassifier is deprecated and will be removed in a future release. To remove this warning, do the following: 1) Pass option use_label_encoder=False when constructing XGBClassifier object; and 2) Encode your labels (y) as integers starting with 0, i.e. 0, 1, 2, ..., [num_class - 1].\n",
      "  warnings.warn(label_encoder_deprecation_msg, UserWarning)\n"
     ]
    },
    {
     "name": "stdout",
     "output_type": "stream",
     "text": [
      "[02:20:34] WARNING: C:/Users/Administrator/workspace/xgboost-win64_release_1.4.0/src/learner.cc:1095: Starting in XGBoost 1.3.0, the default evaluation metric used with the objective 'binary:logistic' was changed from 'error' to 'logloss'. Explicitly set eval_metric if you'd like to restore the old behavior.\n",
      "Accuracy: 0.679\n"
     ]
    },
    {
     "data": {
      "image/png": "[encoded data removed]",
      "text/plain": [
       "<Figure size 432x288 with 1 Axes>"
      ]
     },
     "metadata": {
      "needs_background": "light"
     },
     "output_type": "display_data"
    },
    {
     "name": "stdout",
     "output_type": "stream",
     "text": [
      "              precision    recall  f1-score   support\n",
      "\n",
      "           0     0.6970    0.6755    0.6861      2595\n",
      "           1     0.6612    0.6832    0.6720      2405\n",
      "\n",
      "    accuracy                         0.6792      5000\n",
      "   macro avg     0.6791    0.6793    0.6790      5000\n",
      "weighted avg     0.6798    0.6792    0.6793      5000\n",
      "\n"
     ]
    },
    {
     "data": {
      "image/png": "[encoded data removed]",
      "text/plain": [
       "<Figure size 432x288 with 1 Axes>"
      ]
     },
     "metadata": {
      "needs_background": "light"
     },
     "output_type": "display_data"
    }
   ],
   "source": [
    "\n",
    "xgb_clf=xgb.XGBClassifier(base_score=0.5, booster='gbtree', colsample_bylevel=1,\n",
    "              colsample_bynode=1, colsample_bytree=0.9, gamma=1, gpu_id=-1,\n",
    "              importance_type='gain', interaction_constraints='',\n",
    "              learning_rate=0.1, max_delta_step=0, max_depth=5,\n",
    "              min_child_weight=5,monotone_constraints='()',\n",
    "              n_estimators=500, n_jobs=-1, num_parallel_tree=1, random_state=42,\n",
    "              reg_alpha=1, reg_lambda=3, scale_pos_weight=1, subsample=1,\n",
    "              tree_method='exact', validate_parameters=1, verbosity=None)\n",
    "xgb_clf.fit(x_red,y_train)\n",
    "y_pred=xgb_clf.predict(x_test_red)\n",
    "#scores[\"XGBoost\"]=accuracy_score(y_test,y_pred)\n",
    "vis_data(xgb_clf,x_test_red,y_test,x_red,y_train)\n",
    "#print(classification_report(y_test, y_pred,digits=4))"
   ]
  },
  {
   "cell_type": "code",
   "execution_count": 18,
   "metadata": {},
   "outputs": [
    {
     "name": "stdout",
     "output_type": "stream",
     "text": [
      "              precision    recall  f1-score   support\n",
      "\n",
      "           0     0.6790    0.6998    0.6893      2515\n",
      "           1     0.6865    0.6652    0.6757      2485\n",
      "\n",
      "    accuracy                         0.6826      5000\n",
      "   macro avg     0.6827    0.6825    0.6825      5000\n",
      "weighted avg     0.6827    0.6826    0.6825      5000\n",
      "\n"
     ]
    }
   ],
   "source": [
    "vote_clf =VotingClassifier(estimators=[\n",
    "            ('knn_bag', BaggingClassifier(KNeighborsClassifier(n_neighbors=30),n_jobs=-1)),\n",
    "            ('xgb',xgb_clf),\n",
    "            ('rf', ExtraTreesClassifier(n_estimators=1200)),\n",
    "    ('ada',AdaBoostClassifier(RandomForestClassifier(n_estimators=1000,oob_score=True),learning_rate=0.5,random_state=42))\n",
    "        ],weights=[1,3,1,2],voting='soft', n_jobs=-1,verbose=True)\n",
    "vote_clf.fit(x_red,y_train)\n",
    "y_pred=vote_clf.predict(x_test_red)\n",
    "print(classification_report(y_test, y_pred,digits=4))\n",
    "#scores[\"Votingz\"]=accuracy_score(y_test,y_pred)"
   ]
  },
  {
   "cell_type": "code",
   "execution_count": null,
   "metadata": {},
   "outputs": [],
   "source": [
    "stk_clf= StackingClassifier(\n",
    "        estimators=[\n",
    "          ('lr', BaggingClassifier(KNeighborsClassifier(n_neighbors=3,weights='distance'),n_jobs=-1)),\n",
    "          ('ada', AdaBoostClassifier(RandomForestClassifier(n_estimators=400,oob_score=True),learning_rate=0.5,random_state=42))\n",
    "        ],final_estimator=xgb.XGBClassifier(n_estimators=150,learning_rate=0.5,use_label_encoder=False,eval_metric=\"mlogloss\")\n",
    "    , voting='soft', n_jobs=-1)\n",
    "stk_clf.fit(x_red,y_train)\n",
    "y_pred=stk.predict(x_test_red)\n",
    "print(classification_report(y_test, y_pred,digits=4))"
   ]
  },
  {
   "cell_type": "code",
   "execution_count": null,
   "metadata": {},
   "outputs": [],
   "source": [
    "Bag_clf= BaggingClassifier(\n",
    "        estimators=[\n",
    "            ('knn',KNeighborsClassifier(n_neighbors=30)),\n",
    "          ('lr',LogisticRegression(C=7.742636826811269, penalty='l1', solver='liblinear') ),\n",
    "          ('ada', AdaBoostClassifier(RandomForestClassifier(n_estimators=400,oob_score=True),learning_rate=0.5,random_state=42))\n",
    "        ],final_estimator=xgb.XGBClassifier(n_estimators=150,learning_rate=0.5,use_label_encoder=False,eval_metric=\"mlogloss\")\n",
    "    , voting='soft', n_jobs=-1)\n",
    "stk_clf.fit(x_red,y_train)\n",
    "y_pred=stk.predict(x_test_red)\n",
    "print(classification_report(y_test, y_pred,digits=4))"
   ]
  },
  {
   "cell_type": "code",
   "execution_count": 79,
   "metadata": {},
   "outputs": [
    {
     "data": {
      "text/plain": [
       "(10000, 4900)"
      ]
     },
     "execution_count": 79,
     "metadata": {},
     "output_type": "execute_result"
    }
   ],
   "source": [
    "# unique, counts = np.unique(y_train, return_counts=True)\n",
    "# print(unique,counts)\n",
    "# y_test\n",
    "x_test.shape"
   ]
  },
  {
   "cell_type": "code",
   "execution_count": 188,
   "metadata": {},
   "outputs": [
    {
     "data": {
      "text/plain": [
       "<matplotlib.image.AxesImage at 0x2254635d2b0>"
      ]
     },
     "execution_count": 188,
     "metadata": {},
     "output_type": "execute_result"
    },
    {
     "data": {
      "image/png": "[encoded data removed]",
      "text/plain": [
       "<Figure size 432x288 with 1 Axes>"
      ]
     },
     "metadata": {
      "needs_background": "light"
     },
     "output_type": "display_data"
    }
   ],
   "source": [
    "#rev=pca.inverse_transform(x_red)\n",
    "plt.imshow(x_test[643].reshape(IMG_SIZE,IMG_SIZE),cmap=plt.cm.binary)\n"
   ]
  },
  {
   "cell_type": "code",
   "execution_count": 189,
   "metadata": {},
   "outputs": [
    {
     "name": "stdout",
     "output_type": "stream",
     "text": [
      "              precision    recall  f1-score   support\n",
      "\n",
      "           0     0.6265    0.6605    0.6431      2545\n",
      "           1     0.6271    0.5919    0.6090      2455\n",
      "\n",
      "    accuracy                         0.6268      5000\n",
      "   macro avg     0.6268    0.6262    0.6260      5000\n",
      "weighted avg     0.6268    0.6268    0.6263      5000\n",
      "\n"
     ]
    }
   ],
   "source": [
    "rf_clf=RandomForestClassifier(n_estimators=400,oob_score=True)\n",
    "rf_clf.fit(x_red,y_train)\n",
    "y_pred=rf_clf.predict(x_test_red)\n",
    "#scores.append({\"Random Forest\":accuracy_score(y_test,y_pred)})\n",
    "#scores[\"Random Forest\"]=accuracy_score(y_test,y_pred)\n",
    "print(classification_report(y_test, y_pred,digits=4))"
   ]
  },
  {
   "cell_type": "code",
   "execution_count": 14,
   "metadata": {},
   "outputs": [
    {
     "name": "stdout",
     "output_type": "stream",
     "text": [
      "[1] [2500]\n"
     ]
    }
   ],
   "source": [
    "unique, counts = np.unique(y_pred, return_counts=True)\n",
    "print(unique,counts)"
   ]
  },
  {
   "cell_type": "code",
   "execution_count": 15,
   "metadata": {},
   "outputs": [
    {
     "name": "stdout",
     "output_type": "stream",
     "text": [
      "[0 1] [1298 1202]\n"
     ]
    }
   ],
   "source": [
    "unique, counts = np.unique(y_test, return_counts=True)\n",
    "print(unique,counts)"
   ]
  },
  {
   "cell_type": "code",
   "execution_count": 164,
   "metadata": {},
   "outputs": [
    {
     "data": {
      "text/plain": [
       "array([[0.21568627, 0.62745098, 0.52941176, ..., 0.72156863, 0.68235294,\n",
       "        0.75686275],\n",
       "       [0.4627451 , 0.19607843, 0.61960784, ..., 0.29019608, 0.53333333,\n",
       "        0.21568627],\n",
       "       [0.9254902 , 0.9254902 , 0.9372549 , ..., 0.67843137, 0.69019608,\n",
       "        0.69411765],\n",
       "       ...,\n",
       "       [0.1372549 , 0.15686275, 0.18823529, ..., 0.75686275, 0.4627451 ,\n",
       "        0.68235294],\n",
       "       [1.        , 0.97254902, 0.90980392, ..., 0.43921569, 0.44313725,\n",
       "        0.47058824],\n",
       "       [0.94117647, 0.94901961, 0.94901961, ..., 0.99607843, 0.99607843,\n",
       "        0.99607843]])"
      ]
     },
     "execution_count": 164,
     "metadata": {},
     "output_type": "execute_result"
    }
   ],
   "source": [
    "x_test"
   ]
  },
  {
   "cell_type": "code",
   "execution_count": null,
   "metadata": {},
   "outputs": [],
   "source": []
  }
 ],
 "metadata": {
  "kernelspec": {
   "display_name": "Python 3",
   "language": "python",
   "name": "python3"
  },
  "language_info": {
   "codemirror_mode": {
    "name": "ipython",
    "version": 3
   },
   "file_extension": ".py",
   "mimetype": "text/x-python",
   "name": "python",
   "nbconvert_exporter": "python",
   "pygments_lexer": "ipython3",
   "version": "3.8.5"
  }
 },
 "nbformat": 4,
 "nbformat_minor": 4
}
