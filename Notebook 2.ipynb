{
 "cells": [
  {
   "cell_type": "markdown",
   "metadata": {
    "pycharm": {
     "name": "#%% md\n"
    }
   },
   "source": [
    "# Question 1:"
   ]
  },
  {
   "cell_type": "code",
   "execution_count": null,
   "outputs": [],
   "source": [
    "def chnger(base:int,a:int):\n",
    "    ans=\"\"\n",
    "    temp=0\n",
    "    while a/base:\n",
    "        temp=a%base\n",
    "        if(temp>10):\n",
    "            temp=temp-10\n",
    "            temp=temp+ 65#the ascii value of 'A'\n",
    "            ans=chr(temp)+ans\n",
    "        else:\n",
    "            ans=str(temp)+ans\n",
    "        a=int(a/base)\n",
    "    print(f\"base :{base} is: {ans}\")\n",
    "#a=input(\"please Enter a number: \")\n",
    "a=335\n",
    "flag=True\n",
    "chnger(2,a)\n",
    "chnger(8,a)\n",
    "chnger(16,a)"
   ],
   "metadata": {
    "collapsed": false,
    "pycharm": {
     "name": "#%%\n"
    }
   }
  },
  {
   "cell_type": "markdown",
   "metadata": {
    "pycharm": {
     "name": "#%% md\n"
    }
   },
   "source": [
    "# question 2:"
   ]
  },
  {
   "cell_type": "code",
   "execution_count": 1,
   "outputs": [
    {
     "data": {
      "text/plain": "17"
     },
     "execution_count": 1,
     "metadata": {},
     "output_type": "execute_result"
    }
   ],
   "source": [
    "import pandas as pd\n",
    "#reading the data\n",
    "df=pd.read_csv(r\"./cast.csv\")\n",
    "#df.groupby('title'=='Hamlet')\n",
    "k=df.loc[df['title']=='Hamlet']#finding all the Hamlet titled movied\n",
    "k=k.drop_duplicates(subset='year',keep='first')\n",
    "k.shape[0]"
   ],
   "metadata": {
    "collapsed": false,
    "pycharm": {
     "name": "#%%\n"
    }
   }
  },
  {
   "cell_type": "markdown",
   "source": [
    "## there are 17 movies with the title 'Hamlet' in this data frame\n",
    "## (and i have not seen even 1 of them)"
   ],
   "metadata": {
    "collapsed": false,
    "pycharm": {
     "name": "#%% md\n"
    }
   }
  },
  {
   "cell_type": "markdown",
   "metadata": {
    "pycharm": {
     "name": "#%% md\n"
    }
   },
   "source": [
    "# Question 3:"
   ]
  },
  {
   "cell_type": "code",
   "execution_count": 2,
   "outputs": [
    {
     "data": {
      "text/plain": "                  title  year                name   type         character  \\\n313097  Treasure Island  1918   Francis Carpenter  actor       Jim Hawkins   \n345942  Treasure Island  1920          Lon Chaney  actor        Blind Pew    \n8570    Treasure Island  1934        Robert Adair  actor      Tom - Seaman   \n12141   Treasure Island  1950        Chris Adcock  actor              Pike   \n38151   Treasure Island  1972  Cristino Almod?var  actor           O'Brien   \n484325  Treasure Island  1973      Richard Dawson  actor  Long John Silver   \n14899   Treasure Island  1985         Yves Afonso  actor    French captain   \n104905  Treasure Island  1999    Lance (II) Baker  actor             Frank   \n\n           n  \n313097   1.0  \n345942   5.0  \n8570     NaN  \n12141   26.0  \n38151   18.0  \n484325   1.0  \n14899    8.0  \n104905   1.0  ",
      "text/html": "<div>\n<style scoped>\n    .dataframe tbody tr th:only-of-type {\n        vertical-align: middle;\n    }\n\n    .dataframe tbody tr th {\n        vertical-align: top;\n    }\n\n    .dataframe thead th {\n        text-align: right;\n    }\n</style>\n<table border=\"1\" class=\"dataframe\">\n  <thead>\n    <tr style=\"text-align: right;\">\n      <th></th>\n      <th>title</th>\n      <th>year</th>\n      <th>name</th>\n      <th>type</th>\n      <th>character</th>\n      <th>n</th>\n    </tr>\n  </thead>\n  <tbody>\n    <tr>\n      <th>313097</th>\n      <td>Treasure Island</td>\n      <td>1918</td>\n      <td>Francis Carpenter</td>\n      <td>actor</td>\n      <td>Jim Hawkins</td>\n      <td>1.0</td>\n    </tr>\n    <tr>\n      <th>345942</th>\n      <td>Treasure Island</td>\n      <td>1920</td>\n      <td>Lon Chaney</td>\n      <td>actor</td>\n      <td>Blind Pew</td>\n      <td>5.0</td>\n    </tr>\n    <tr>\n      <th>8570</th>\n      <td>Treasure Island</td>\n      <td>1934</td>\n      <td>Robert Adair</td>\n      <td>actor</td>\n      <td>Tom - Seaman</td>\n      <td>NaN</td>\n    </tr>\n    <tr>\n      <th>12141</th>\n      <td>Treasure Island</td>\n      <td>1950</td>\n      <td>Chris Adcock</td>\n      <td>actor</td>\n      <td>Pike</td>\n      <td>26.0</td>\n    </tr>\n    <tr>\n      <th>38151</th>\n      <td>Treasure Island</td>\n      <td>1972</td>\n      <td>Cristino Almod?var</td>\n      <td>actor</td>\n      <td>O'Brien</td>\n      <td>18.0</td>\n    </tr>\n    <tr>\n      <th>484325</th>\n      <td>Treasure Island</td>\n      <td>1973</td>\n      <td>Richard Dawson</td>\n      <td>actor</td>\n      <td>Long John Silver</td>\n      <td>1.0</td>\n    </tr>\n    <tr>\n      <th>14899</th>\n      <td>Treasure Island</td>\n      <td>1985</td>\n      <td>Yves Afonso</td>\n      <td>actor</td>\n      <td>French captain</td>\n      <td>8.0</td>\n    </tr>\n    <tr>\n      <th>104905</th>\n      <td>Treasure Island</td>\n      <td>1999</td>\n      <td>Lance (II) Baker</td>\n      <td>actor</td>\n      <td>Frank</td>\n      <td>1.0</td>\n    </tr>\n  </tbody>\n</table>\n</div>"
     },
     "execution_count": 2,
     "metadata": {},
     "output_type": "execute_result"
    }
   ],
   "source": [
    "Ti=df.loc[df['title']=='Treasure Island']#Ti stands for treasure island\n",
    "Ti=Ti.drop_duplicates(subset='year',keep='first')\n",
    "Ti.sort_values(by='year')"
   ],
   "metadata": {
    "collapsed": false,
    "pycharm": {
     "name": "#%%\n"
    }
   }
  },
  {
   "cell_type": "markdown",
   "source": [
    "# Question 4:"
   ],
   "metadata": {
    "collapsed": false,
    "pycharm": {
     "name": "#%% md\n"
    }
   }
  },
  {
   "cell_type": "code",
   "execution_count": 5,
   "metadata": {
    "pycharm": {
     "name": "#%%\n"
    }
   },
   "outputs": [
    {
     "data": {
      "text/plain": "          title  year                    name     type         character    n\n6710     Hamlet  1921        Fritz Achterberg    actor       Fortinbras,  9.0\n408456   Hamlet  1921            Paul Conradi    actor      K?nig Hamlet  2.0\n495468   Hamlet  1921        Anton De Verdier    actor           Laertes  7.0\n1015046  Hamlet  1921         Hans Junkermann    actor          Polonius  6.0\n1948795  Hamlet  1921            Heinz Stieda    actor           Horatio  5.0\n2116906  Hamlet  1921  Eduard von Winterstein    actor          Claudius  4.0\n2370048  Hamlet  1921         Mathilde Brandt  actress  K?nigin Gertrude  3.0\n2713980  Hamlet  1921          Lilly Jacobson  actress           Ophelia  8.0\n2964897  Hamlet  1921            Asta Nielsen  actress            Hamlet  1.0",
      "text/html": "<div>\n<style scoped>\n    .dataframe tbody tr th:only-of-type {\n        vertical-align: middle;\n    }\n\n    .dataframe tbody tr th {\n        vertical-align: top;\n    }\n\n    .dataframe thead th {\n        text-align: right;\n    }\n</style>\n<table border=\"1\" class=\"dataframe\">\n  <thead>\n    <tr style=\"text-align: right;\">\n      <th></th>\n      <th>title</th>\n      <th>year</th>\n      <th>name</th>\n      <th>type</th>\n      <th>character</th>\n      <th>n</th>\n    </tr>\n  </thead>\n  <tbody>\n    <tr>\n      <th>6710</th>\n      <td>Hamlet</td>\n      <td>1921</td>\n      <td>Fritz Achterberg</td>\n      <td>actor</td>\n      <td>Fortinbras,</td>\n      <td>9.0</td>\n    </tr>\n    <tr>\n      <th>408456</th>\n      <td>Hamlet</td>\n      <td>1921</td>\n      <td>Paul Conradi</td>\n      <td>actor</td>\n      <td>K?nig Hamlet</td>\n      <td>2.0</td>\n    </tr>\n    <tr>\n      <th>495468</th>\n      <td>Hamlet</td>\n      <td>1921</td>\n      <td>Anton De Verdier</td>\n      <td>actor</td>\n      <td>Laertes</td>\n      <td>7.0</td>\n    </tr>\n    <tr>\n      <th>1015046</th>\n      <td>Hamlet</td>\n      <td>1921</td>\n      <td>Hans Junkermann</td>\n      <td>actor</td>\n      <td>Polonius</td>\n      <td>6.0</td>\n    </tr>\n    <tr>\n      <th>1948795</th>\n      <td>Hamlet</td>\n      <td>1921</td>\n      <td>Heinz Stieda</td>\n      <td>actor</td>\n      <td>Horatio</td>\n      <td>5.0</td>\n    </tr>\n    <tr>\n      <th>2116906</th>\n      <td>Hamlet</td>\n      <td>1921</td>\n      <td>Eduard von Winterstein</td>\n      <td>actor</td>\n      <td>Claudius</td>\n      <td>4.0</td>\n    </tr>\n    <tr>\n      <th>2370048</th>\n      <td>Hamlet</td>\n      <td>1921</td>\n      <td>Mathilde Brandt</td>\n      <td>actress</td>\n      <td>K?nigin Gertrude</td>\n      <td>3.0</td>\n    </tr>\n    <tr>\n      <th>2713980</th>\n      <td>Hamlet</td>\n      <td>1921</td>\n      <td>Lilly Jacobson</td>\n      <td>actress</td>\n      <td>Ophelia</td>\n      <td>8.0</td>\n    </tr>\n    <tr>\n      <th>2964897</th>\n      <td>Hamlet</td>\n      <td>1921</td>\n      <td>Asta Nielsen</td>\n      <td>actress</td>\n      <td>Hamlet</td>\n      <td>1.0</td>\n    </tr>\n  </tbody>\n</table>\n</div>"
     },
     "execution_count": 5,
     "metadata": {},
     "output_type": "execute_result"
    }
   ],
   "source": [
    "Tr=df[(df['title']=='Hamlet')&(df['year']==1921)].drop_duplicates(subset='n',keep='first')#df.loc[df['title']=='Hamlet' & df['year']==1921]\n",
    "Tr"
   ]
  },
  {
   "cell_type": "markdown",
   "source": [
    "## 9 roles were credited in the 1921 version of Hamlet"
   ],
   "metadata": {
    "collapsed": false,
    "pycharm": {
     "name": "#%% md\n"
    }
   }
  },
  {
   "cell_type": "markdown",
   "metadata": {
    "pycharm": {
     "name": "#%% md\n"
    }
   },
   "source": [
    "# Question 5:"
   ]
  },
  {
   "cell_type": "code",
   "execution_count": 6,
   "outputs": [
    {
     "data": {
      "text/plain": "<AxesSubplot:title={'center':'ratio decade to movies'}, xlabel='year'>"
     },
     "execution_count": 6,
     "metadata": {},
     "output_type": "execute_result"
    },
    {
     "data": {
      "text/plain": "<Figure size 432x288 with 1 Axes>",
      "image/png": "[encoded data removed]"
     },
     "metadata": {
      "needs_background": "light"
     },
     "output_type": "display_data"
    }
   ],
   "source": [
    "d=df.loc[df['title']=='Hamlet']\n",
    "dg=d.groupby((d['year']//10)*10).size()\n",
    "dg.plot(title=\"ratio decade to movies\",kind='bar')"
   ],
   "metadata": {
    "collapsed": false,
    "pycharm": {
     "name": "#%%\n"
    }
   }
  },
  {
   "cell_type": "markdown",
   "metadata": {
    "pycharm": {
     "name": "#%% md\n"
    }
   },
   "source": [
    "# Question 6:"
   ]
  },
  {
   "cell_type": "code",
   "execution_count": 7,
   "outputs": [
    {
     "data": {
      "text/plain": "<AxesSubplot:xlabel='year'>"
     },
     "execution_count": 7,
     "metadata": {},
     "output_type": "execute_result"
    },
    {
     "data": {
      "text/plain": "<Figure size 432x288 with 1 Axes>",
      "image/png": "[encoded data removed]"
     },
     "metadata": {
      "needs_background": "light"
     },
     "output_type": "display_data"
    }
   ],
   "source": [
    "ldf=df[df.year//10==195]\n",
    "actr=ldf[ldf.n==1]\n",
    "actr.groupby(['year','type']).size().unstack().plot(kind='bar')"
   ],
   "metadata": {
    "collapsed": false,
    "pycharm": {
     "name": "#%%\n"
    }
   }
  },
  {
   "cell_type": "markdown",
   "metadata": {
    "pycharm": {
     "name": "#%% md\n"
    }
   },
   "source": [
    "# Question 7:"
   ]
  },
  {
   "cell_type": "code",
   "execution_count": 8,
   "outputs": [
    {
     "name": "stdout",
     "output_type": "stream",
     "text": [
      "name\n",
      "Dilip                  59\n",
      "Nagarjuna Akkineni     60\n",
      "Amitabh Bachchan       68\n",
      "Eric Roberts           68\n",
      "Ajay Devgn             69\n",
      "Andy Lau               72\n",
      "Jayaram                76\n",
      "Akshay Kumar           87\n",
      "Mammootty             118\n",
      "Mohanlal              126\n",
      "dtype: int64\n"
     ]
    },
    {
     "data": {
      "text/plain": "<Figure size 432x288 with 1 Axes>",
      "image/png": "[encoded data removed]"
     },
     "metadata": {
      "needs_background": "light"
     },
     "output_type": "display_data"
    }
   ],
   "source": [
    "nd=df[(df.year>=1990)&(df.n==1)]\n",
    "nd=nd.groupby('name').size().sort_values()\n",
    "nd.tail(10).plot(kind='bar')\n",
    "print(nd.tail(10))"
   ],
   "metadata": {
    "collapsed": false,
    "pycharm": {
     "name": "#%%\n"
    }
   }
  },
  {
   "cell_type": "markdown",
   "metadata": {
    "pycharm": {
     "name": "#%% md\n"
    }
   },
   "source": [
    "# Question 8:"
   ]
  },
  {
   "cell_type": "code",
   "execution_count": 9,
   "outputs": [
    {
     "data": {
      "text/plain": "title                                     year\nThe Muppet Movie                          1979    8\nAn American Werewolf in London            1981    2\nThe Great Muppet Caper                    1981    6\nThe Dark Crystal                          1982    2\nThe Muppets Take Manhattan                1984    7\nSesame Street Presents: Follow that Bird  1985    3\nThe Muppet Christmas Carol                1992    7\nMuppet Treasure Island                    1996    4\nMuppets from Space                        1999    4\nThe Adventures of Elmo in Grouchland      1999    3\ndtype: int64"
     },
     "execution_count": 9,
     "metadata": {},
     "output_type": "execute_result"
    }
   ],
   "source": [
    "fo=df[df.name==\"Frank Oz\"]\n",
    "fo=fo.groupby(['title','year']).size()\n",
    "fo=fo[fo>1]\n",
    "fo.sort_index(level=['year'])"
   ],
   "metadata": {
    "collapsed": false,
    "pycharm": {
     "name": "#%%\n"
    }
   }
  },
  {
   "cell_type": "code",
   "execution_count": null,
   "metadata": {},
   "outputs": [],
   "source": []
  }
 ],
 "metadata": {
  "kernelspec": {
   "display_name": "Python 3",
   "language": "python",
   "name": "python3"
  },
  "language_info": {
   "codemirror_mode": {
    "name": "ipython",
    "version": 3
   },
   "file_extension": ".py",
   "mimetype": "text/x-python",
   "name": "python",
   "nbconvert_exporter": "python",
   "pygments_lexer": "ipython3",
   "version": "3.8.3"
  }
 },
 "nbformat": 4,
 "nbformat_minor": 1
}